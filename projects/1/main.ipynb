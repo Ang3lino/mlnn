{
 "cells": [
  {
   "cell_type": "markdown",
   "metadata": {},
   "source": [
    "# EEG Eye State detection\n",
    "\n",
    "## Authors: Ángel López Manríquez\n",
    "\n",
    "### Objectives:\n",
    "### What is done in the Notebook:"
   ]
  },
  {
   "cell_type": "code",
   "execution_count": 22,
   "metadata": {},
   "outputs": [],
   "source": [
    "\n",
    "#import arff\n",
    "\n",
    "import numpy as np\n",
    "import matplotlib.pyplot as plt\n",
    "import pandas as pd\n",
    "\n",
    "\n",
    "from IPython.display import display, HTML, Markdown\n",
    "\n",
    "from sklearn.model_selection import train_test_split\n",
    "from sklearn.preprocessing import StandardScaler\n",
    "from sklearn.metrics import confusion_matrix, accuracy_score\n",
    "\n",
    "# classifiers\n",
    "from sklearn.linear_model import LogisticRegression\n",
    "from sklearn.naive_bayes import GaussianNB\n",
    "from sklearn.neighbors import KNeighborsClassifier\n",
    "from sklearn.svm import SVC  # Support vector classifier\n",
    "from sklearn.tree import DecisionTreeClassifier\n",
    "from sklearn.ensemble import RandomForestClassifier\n",
    "\n",
    "from matplotlib.colors import ListedColormap\n"
   ]
  },
  {
   "cell_type": "code",
   "execution_count": 23,
   "metadata": {},
   "outputs": [],
   "source": [
    "plt.style.use('seaborn')"
   ]
  },
  {
   "cell_type": "markdown",
   "metadata": {},
   "source": [
    "## Reading the dataset"
   ]
  },
  {
   "cell_type": "code",
   "execution_count": 9,
   "metadata": {},
   "outputs": [
    {
     "name": "stdout",
     "output_type": "stream",
     "text": [
      "type:  <class 'pandas.core.frame.DataFrame'>\n",
      "attributes:  Index(['AF3', 'F7', 'F3', 'FC5', 'T7', 'P7', 'O1', 'O2', 'P8', 'T8', 'FC6',\n",
      "       'F4', 'F8', 'AF4', 'eyeDetection'],\n",
      "      dtype='object')\n",
      "           AF3       F7       F3      FC5       T7       P7       O1       O2  \\\n",
      "0      4329.23  4009.23  4289.23  4148.21  4350.26  4586.15  4096.92  4641.03   \n",
      "1      4324.62  4004.62  4293.85  4148.72  4342.05  4586.67  4097.44  4638.97   \n",
      "2      4327.69  4006.67  4295.38  4156.41  4336.92  4583.59  4096.92  4630.26   \n",
      "3      4328.72  4011.79  4296.41  4155.90  4343.59  4582.56  4097.44  4630.77   \n",
      "4      4326.15  4011.79  4292.31  4151.28  4347.69  4586.67  4095.90  4627.69   \n",
      "5      4321.03  4004.62  4284.10  4153.33  4345.64  4587.18  4093.33  4616.92   \n",
      "6      4319.49  4001.03  4280.51  4151.79  4343.59  4584.62  4089.74  4615.90   \n",
      "7      4325.64  4006.67  4278.46  4143.08  4344.10  4583.08  4087.18  4614.87   \n",
      "8      4326.15  4010.77  4276.41  4139.49  4345.13  4584.10  4091.28  4608.21   \n",
      "9      4326.15  4011.28  4276.92  4142.05  4344.10  4582.56  4092.82  4608.72   \n",
      "10     4326.15  4010.77  4272.82  4143.08  4342.56  4579.49  4087.69  4615.90   \n",
      "11     4316.92  4002.56  4259.49  4135.90  4339.49  4581.54  4086.15  4615.38   \n",
      "12     4308.21  3993.33  4247.69  4124.62  4335.90  4584.62  4089.74  4610.26   \n",
      "13     4308.21  3998.46  4251.79  4122.56  4338.46  4584.62  4091.28  4616.92   \n",
      "14     4312.82  4006.15  4260.51  4127.69  4341.03  4586.15  4089.74  4628.72   \n",
      "15     4313.85  4003.59  4255.90  4127.69  4337.95  4586.15  4091.28  4627.69   \n",
      "16     4306.67  3997.95  4247.18  4122.56  4336.92  4584.10  4094.36  4620.51   \n",
      "17     4303.59  3996.41  4249.23  4122.05  4341.03  4584.10  4090.77  4616.41   \n",
      "18     4312.31  4000.00  4255.90  4124.10  4342.05  4586.67  4085.64  4610.77   \n",
      "19     4315.90  4003.59  4257.44  4122.56  4341.54  4588.21  4088.21  4607.18   \n",
      "20     4314.36  4005.64  4259.49  4123.59  4345.13  4588.21  4092.31  4612.82   \n",
      "21     4324.62  4012.82  4263.08  4132.31  4343.08  4587.18  4091.79  4617.95   \n",
      "22     4331.28  4024.10  4266.15  4140.00  4336.41  4585.64  4089.74  4617.95   \n",
      "23     4326.67  4020.00  4264.10  4137.44  4334.36  4586.15  4088.21  4621.54   \n",
      "24     4321.54  4007.69  4260.00  4132.31  4340.00  4585.64  4087.18  4630.26   \n",
      "25     4317.44  4007.69  4257.44  4128.72  4343.59  4585.13  4088.21  4638.97   \n",
      "26     4311.79  4007.18  4250.77  4125.13  4336.41  4587.18  4087.69  4634.36   \n",
      "27     4308.72  4000.00  4245.13  4121.54  4329.23  4585.64  4086.67  4617.44   \n",
      "28     4308.21  4002.05  4252.82  4122.56  4332.82  4582.56  4087.69  4610.77   \n",
      "29     4311.28  4011.28  4265.13  4130.26  4339.49  4583.59  4089.74  4616.41   \n",
      "...        ...      ...      ...      ...      ...      ...      ...      ...   \n",
      "14950  4330.26  4036.41  4282.05  4141.03  4341.03  4614.87  4068.21  4621.54   \n",
      "14951  4325.64  4037.44  4278.97  4145.13  4335.90  4609.74  4066.67  4616.92   \n",
      "14952  4326.67  4038.97  4280.51  4148.72  4334.36  4604.10  4066.67  4620.51   \n",
      "14953  4327.69  4038.46  4280.51  4146.67  4340.00  4609.23  4071.79  4628.21   \n",
      "14954  4328.72  4037.44  4279.49  4149.23  4342.05  4616.41  4074.36  4627.18   \n",
      "14955  4328.21  4036.92  4281.03  4153.33  4335.90  4616.41  4075.38  4623.59   \n",
      "14956  4322.05  4034.87  4280.00  4151.79  4332.31  4612.82  4076.92  4624.62   \n",
      "14957  4315.90  4031.79  4275.38  4149.23  4337.44  4614.36  4077.44  4624.62   \n",
      "14958  4315.90  4027.69  4275.90  4148.72  4338.97  4620.51  4077.95  4628.72   \n",
      "14959  4312.31  4022.05  4278.46  4149.23  4336.92  4623.59  4081.54  4639.49   \n",
      "14960  4304.10  4016.92  4273.85  4145.13  4340.00  4623.59  4084.10  4646.67   \n",
      "14961  4303.08  4016.92  4270.77  4138.97  4342.05  4621.54  4082.56  4645.64   \n",
      "14962  4304.62  4018.46  4272.31  4139.49  4340.00  4619.49  4082.56  4637.95   \n",
      "14963  4301.03  4013.85  4268.72  4140.00  4341.03  4617.44  4082.05  4626.15   \n",
      "14964  4300.00  4009.23  4263.59  4138.46  4342.56  4617.95  4083.59  4623.08   \n",
      "14965  4302.56  4008.72  4265.13  4138.97  4336.41  4618.46  4088.72  4630.77   \n",
      "14966  4297.95  4006.15  4266.15  4136.92  4330.77  4615.90  4088.21  4631.79   \n",
      "14967  4293.85  4005.13  4262.56  4134.87  4332.82  4614.36  4083.59  4629.23   \n",
      "14968  4298.97  4006.67  4261.03  4137.44  4337.95  4615.38  4087.18  4634.87   \n",
      "14969  4296.92  4006.15  4264.10  4134.87  4339.49  4619.49  4090.26  4633.33   \n",
      "14970  4289.23  4003.08  4263.59  4124.62  4338.46  4621.03  4084.10  4625.13   \n",
      "14971  4288.72  3999.49  4254.36  4120.51  4336.92  4618.97  4082.56  4630.26   \n",
      "14972  4288.21  3995.90  4248.21  4120.00  4334.36  4615.90  4084.62  4641.03   \n",
      "14973  4282.56  3991.79  4250.26  4115.90  4332.31  4612.82  4077.44  4639.49   \n",
      "14974  4280.51  3988.72  4249.23  4116.92  4332.31  4612.82  4072.31  4632.31   \n",
      "14975  4281.03  3990.26  4245.64  4116.92  4333.85  4614.36  4074.87  4625.64   \n",
      "14976  4276.92  3991.79  4245.13  4110.77  4332.82  4615.38  4073.33  4621.54   \n",
      "14977  4277.44  3990.77  4246.67  4113.85  4333.33  4615.38  4072.82  4623.59   \n",
      "14978  4284.62  3991.79  4251.28  4122.05  4334.36  4616.41  4080.51  4628.72   \n",
      "14979  4287.69  3997.44  4260.00  4121.03  4333.33  4616.41  4088.72  4638.46   \n",
      "\n",
      "            P8       T8      FC6       F4       F8      AF4 eyeDetection  \n",
      "0      4222.05  4238.46  4211.28  4280.51  4635.90  4393.85         b'0'  \n",
      "1      4210.77  4226.67  4207.69  4279.49  4632.82  4384.10         b'0'  \n",
      "2      4207.69  4222.05  4206.67  4282.05  4628.72  4389.23         b'0'  \n",
      "3      4217.44  4235.38  4210.77  4287.69  4632.31  4396.41         b'0'  \n",
      "4      4210.77  4244.10  4212.82  4288.21  4632.82  4398.46         b'0'  \n",
      "5      4202.56  4232.82  4209.74  4281.03  4628.21  4389.74         b'0'  \n",
      "6      4212.31  4226.67  4201.03  4269.74  4625.13  4378.46         b'0'  \n",
      "7      4205.64  4230.26  4195.90  4266.67  4622.05  4380.51         b'0'  \n",
      "8      4187.69  4229.74  4202.05  4273.85  4627.18  4389.74         b'0'  \n",
      "9      4194.36  4228.72  4212.82  4277.95  4637.44  4393.33         b'0'  \n",
      "10     4206.15  4228.72  4210.77  4272.82  4631.79  4382.56         b'0'  \n",
      "11     4195.90  4223.59  4197.44  4262.05  4613.33  4370.77         b'0'  \n",
      "12     4188.72  4221.54  4190.26  4255.90  4606.15  4369.74         b'0'  \n",
      "13     4205.64  4225.64  4194.36  4263.59  4610.26  4371.28         b'0'  \n",
      "14     4215.90  4225.13  4198.97  4274.36  4611.79  4375.90         b'0'  \n",
      "15     4206.15  4224.62  4199.49  4269.23  4610.26  4378.97         b'0'  \n",
      "16     4202.56  4226.15  4193.85  4254.36  4606.15  4369.74         b'0'  \n",
      "17     4203.59  4226.15  4189.23  4253.85  4606.15  4370.26         b'0'  \n",
      "18     4192.31  4223.08  4192.31  4264.62  4614.87  4382.05         b'0'  \n",
      "19     4188.21  4216.92  4200.00  4270.26  4621.54  4378.97         b'0'  \n",
      "20     4206.67  4222.56  4209.74  4272.31  4624.62  4381.54         b'0'  \n",
      "21     4213.33  4240.51  4217.95  4274.36  4632.31  4400.51         b'0'  \n",
      "22     4204.62  4245.13  4216.41  4274.36  4638.97  4401.54         b'0'  \n",
      "23     4213.33  4238.46  4208.72  4271.28  4634.36  4385.13         b'0'  \n",
      "24     4230.26  4242.56  4208.72  4270.26  4627.69  4378.97         b'0'  \n",
      "25     4231.79  4247.69  4209.23  4269.74  4625.13  4386.15         b'0'  \n",
      "26     4209.23  4232.31  4197.44  4262.05  4615.38  4381.03         b'0'  \n",
      "27     4189.23  4216.41  4186.15  4253.85  4604.10  4362.05         b'0'  \n",
      "28     4192.82  4216.41  4189.74  4256.92  4605.13  4360.00         b'0'  \n",
      "29     4200.00  4220.51  4195.90  4265.64  4611.28  4374.36         b'0'  \n",
      "...        ...      ...      ...      ...      ...      ...          ...  \n",
      "14950  4192.31  4224.62  4193.33  4287.18  4616.41  4382.05         b'0'  \n",
      "14951  4192.82  4222.56  4191.79  4291.28  4614.87  4377.95         b'0'  \n",
      "14952  4204.62  4232.31  4200.51  4291.79  4621.03  4384.10         b'0'  \n",
      "14953  4209.74  4236.92  4205.64  4291.79  4626.15  4389.23         b'0'  \n",
      "14954  4206.67  4231.79  4198.97  4292.82  4625.13  4384.10         b'0'  \n",
      "14955  4204.10  4232.31  4196.41  4294.87  4620.51  4376.92         b'0'  \n",
      "14956  4201.03  4233.33  4197.44  4291.79  4617.44  4375.90         b'0'  \n",
      "14957  4201.03  4226.67  4192.82  4285.64  4618.46  4376.92         b'0'  \n",
      "14958  4205.64  4227.69  4189.23  4282.05  4618.46  4374.36         b'0'  \n",
      "14959  4214.36  4230.77  4186.67  4284.62  4612.31  4368.21         b'1'  \n",
      "14960  4223.08  4229.23  4182.05  4282.56  4606.15  4364.10         b'1'  \n",
      "14961  4220.00  4229.23  4180.51  4276.92  4602.05  4362.56         b'1'  \n",
      "14962  4203.08  4226.67  4179.49  4278.46  4602.05  4360.00         b'1'  \n",
      "14963  4196.41  4224.10  4177.95  4278.97  4603.08  4360.00         b'1'  \n",
      "14964  4205.64  4226.67  4177.95  4277.44  4601.03  4362.05         b'1'  \n",
      "14965  4211.79  4227.18  4178.46  4278.46  4602.05  4359.49         b'1'  \n",
      "14966  4207.69  4225.13  4176.41  4277.95  4605.64  4354.87         b'1'  \n",
      "14967  4204.62  4225.13  4174.87  4276.92  4602.05  4352.31         b'1'  \n",
      "14968  4207.69  4227.69  4176.41  4277.95  4599.49  4350.77         b'1'  \n",
      "14969  4206.15  4229.23  4180.51  4278.97  4606.67  4351.28         b'1'  \n",
      "14970  4200.51  4226.67  4180.00  4279.49  4609.23  4354.36         b'1'  \n",
      "14971  4207.18  4226.15  4177.95  4281.03  4605.13  4351.79         b'1'  \n",
      "14972  4214.36  4228.72  4178.46  4273.85  4600.00  4343.08         b'1'  \n",
      "14973  4210.77  4225.64  4175.38  4267.69  4595.90  4340.00         b'1'  \n",
      "14974  4207.69  4220.00  4173.85  4271.28  4595.38  4343.08         b'1'  \n",
      "14975  4203.08  4221.54  4171.28  4269.23  4593.33  4340.51         b'1'  \n",
      "14976  4194.36  4217.44  4162.56  4259.49  4590.26  4333.33         b'1'  \n",
      "14977  4193.33  4212.82  4160.51  4257.95  4591.79  4339.49         b'1'  \n",
      "14978  4200.00  4220.00  4165.64  4267.18  4596.41  4350.77         b'1'  \n",
      "14979  4212.31  4226.67  4167.69  4274.36  4597.95  4350.77         b'1'  \n",
      "\n",
      "[14980 rows x 15 columns]\n"
     ]
    }
   ],
   "source": [
    "# A VER PRUEBA ESTOOOO\n",
    "from scipy.io import arff\n",
    "import pandas as pd\n",
    "\n",
    "filename = 'EEG Eye State.arff'\n",
    "data = arff.loadarff(filename)\n",
    "df = pd.DataFrame(data[0])\n",
    "\n",
    "dataset=df\n",
    "\n",
    "print('type: ', type(dataset))\n",
    "print('attributes: ', dataset.keys())\n",
    "print(df)\n",
    "\n",
    "#print('description: ', dataset['description'], '\\n')\n",
    "#print('relation: ', dataset['relation'], '\\n')\n",
    "#print('attributes: ', dataset['attributes'], '\\n')\n",
    "#print('data (first 5 samples): ', '\\n')\n",
    "\n",
    "\n"
   ]
  },
  {
   "cell_type": "code",
   "execution_count": 10,
   "metadata": {},
   "outputs": [
    {
     "ename": "AttributeError",
     "evalue": "module 'scipy.io.arff' has no attribute 'load'",
     "output_type": "error",
     "traceback": [
      "\u001b[0;31m---------------------------------------------------------------------------\u001b[0m",
      "\u001b[0;31mAttributeError\u001b[0m                            Traceback (most recent call last)",
      "\u001b[0;32m<ipython-input-10-8d272258412e>\u001b[0m in \u001b[0;36m<module>\u001b[0;34m\u001b[0m\n\u001b[1;32m      1\u001b[0m \u001b[0mfilename\u001b[0m \u001b[0;34m=\u001b[0m \u001b[0;34m'EEG Eye State.arff'\u001b[0m\u001b[0;34m\u001b[0m\u001b[0;34m\u001b[0m\u001b[0m\n\u001b[1;32m      2\u001b[0m \u001b[0;32mwith\u001b[0m \u001b[0mopen\u001b[0m\u001b[0;34m(\u001b[0m\u001b[0mfilename\u001b[0m\u001b[0;34m)\u001b[0m \u001b[0;32mas\u001b[0m \u001b[0mfile\u001b[0m\u001b[0;34m:\u001b[0m  \u001b[0;31m# no mode='rb' supplied\u001b[0m\u001b[0;34m\u001b[0m\u001b[0;34m\u001b[0m\u001b[0m\n\u001b[0;32m----> 3\u001b[0;31m     \u001b[0mdataset\u001b[0m \u001b[0;34m=\u001b[0m \u001b[0marff\u001b[0m\u001b[0;34m.\u001b[0m\u001b[0mload\u001b[0m\u001b[0;34m(\u001b[0m\u001b[0mfile\u001b[0m\u001b[0;34m)\u001b[0m\u001b[0;34m\u001b[0m\u001b[0;34m\u001b[0m\u001b[0m\n\u001b[0m\u001b[1;32m      4\u001b[0m \u001b[0;34m\u001b[0m\u001b[0m\n\u001b[1;32m      5\u001b[0m     \u001b[0mprint\u001b[0m\u001b[0;34m(\u001b[0m\u001b[0;34m'type: '\u001b[0m\u001b[0;34m,\u001b[0m \u001b[0mtype\u001b[0m\u001b[0;34m(\u001b[0m\u001b[0mdataset\u001b[0m\u001b[0;34m)\u001b[0m\u001b[0;34m)\u001b[0m\u001b[0;34m\u001b[0m\u001b[0;34m\u001b[0m\u001b[0m\n",
      "\u001b[0;31mAttributeError\u001b[0m: module 'scipy.io.arff' has no attribute 'load'"
     ]
    }
   ],
   "source": [
    "\n",
    "filename = 'EEG Eye State.arff'\n",
    "with open(filename) as file:  # no mode='rb' supplied\n",
    "    dataset = arff.load(file)\n",
    "\n",
    "    print('type: ', type(dataset))\n",
    "    print('attributes: ', dataset.keys())\n",
    "\n",
    "    print('description: ', dataset['description'], '\\n')\n",
    "    print('relation: ', dataset['relation'], '\\n')\n",
    "    print('attributes: ', dataset['attributes'], '\\n')\n",
    "    print('data (first 5 samples): ', '\\n')\n",
    "\n",
    "    pd.DataFrame(dataset['data'][:5], columns=[x[0] for x in dataset['attributes']])"
   ]
  },
  {
   "cell_type": "markdown",
   "metadata": {},
   "source": [
    "## Preprocessing the data"
   ]
  },
  {
   "cell_type": "code",
   "execution_count": 6,
   "metadata": {},
   "outputs": [
    {
     "ename": "KeyError",
     "evalue": "'data'",
     "output_type": "error",
     "traceback": [
      "\u001b[0;31m---------------------------------------------------------------------------\u001b[0m",
      "\u001b[0;31mKeyError\u001b[0m                                  Traceback (most recent call last)",
      "\u001b[0;32m~/anaconda3/lib/python3.7/site-packages/pandas/core/indexes/base.py\u001b[0m in \u001b[0;36mget_loc\u001b[0;34m(self, key, method, tolerance)\u001b[0m\n\u001b[1;32m   2656\u001b[0m             \u001b[0;32mtry\u001b[0m\u001b[0;34m:\u001b[0m\u001b[0;34m\u001b[0m\u001b[0;34m\u001b[0m\u001b[0m\n\u001b[0;32m-> 2657\u001b[0;31m                 \u001b[0;32mreturn\u001b[0m \u001b[0mself\u001b[0m\u001b[0;34m.\u001b[0m\u001b[0m_engine\u001b[0m\u001b[0;34m.\u001b[0m\u001b[0mget_loc\u001b[0m\u001b[0;34m(\u001b[0m\u001b[0mkey\u001b[0m\u001b[0;34m)\u001b[0m\u001b[0;34m\u001b[0m\u001b[0;34m\u001b[0m\u001b[0m\n\u001b[0m\u001b[1;32m   2658\u001b[0m             \u001b[0;32mexcept\u001b[0m \u001b[0mKeyError\u001b[0m\u001b[0;34m:\u001b[0m\u001b[0;34m\u001b[0m\u001b[0;34m\u001b[0m\u001b[0m\n",
      "\u001b[0;32mpandas/_libs/index.pyx\u001b[0m in \u001b[0;36mpandas._libs.index.IndexEngine.get_loc\u001b[0;34m()\u001b[0m\n",
      "\u001b[0;32mpandas/_libs/index.pyx\u001b[0m in \u001b[0;36mpandas._libs.index.IndexEngine.get_loc\u001b[0;34m()\u001b[0m\n",
      "\u001b[0;32mpandas/_libs/hashtable_class_helper.pxi\u001b[0m in \u001b[0;36mpandas._libs.hashtable.PyObjectHashTable.get_item\u001b[0;34m()\u001b[0m\n",
      "\u001b[0;32mpandas/_libs/hashtable_class_helper.pxi\u001b[0m in \u001b[0;36mpandas._libs.hashtable.PyObjectHashTable.get_item\u001b[0;34m()\u001b[0m\n",
      "\u001b[0;31mKeyError\u001b[0m: 'data'",
      "\nDuring handling of the above exception, another exception occurred:\n",
      "\u001b[0;31mKeyError\u001b[0m                                  Traceback (most recent call last)",
      "\u001b[0;32m<ipython-input-6-796998b3468b>\u001b[0m in \u001b[0;36m<module>\u001b[0;34m\u001b[0m\n\u001b[1;32m      1\u001b[0m \u001b[0;31m# Set each data[:][-1] as int instead of str.\u001b[0m\u001b[0;34m\u001b[0m\u001b[0;34m\u001b[0m\u001b[0;34m\u001b[0m\u001b[0m\n\u001b[1;32m      2\u001b[0m \u001b[0;31m# If there's one str in the list passed to np.array ALL the elements in np.array will be of type str\u001b[0m\u001b[0;34m\u001b[0m\u001b[0;34m\u001b[0m\u001b[0;34m\u001b[0m\u001b[0m\n\u001b[0;32m----> 3\u001b[0;31m \u001b[0mdata\u001b[0m \u001b[0;34m=\u001b[0m \u001b[0mdataset\u001b[0m\u001b[0;34m[\u001b[0m\u001b[0;34m'data'\u001b[0m\u001b[0;34m]\u001b[0m\u001b[0;34m\u001b[0m\u001b[0;34m\u001b[0m\u001b[0m\n\u001b[0m\u001b[1;32m      4\u001b[0m \u001b[0mm\u001b[0m\u001b[0;34m,\u001b[0m \u001b[0mn\u001b[0m \u001b[0;34m=\u001b[0m \u001b[0mlen\u001b[0m\u001b[0;34m(\u001b[0m\u001b[0mdata\u001b[0m\u001b[0;34m)\u001b[0m\u001b[0;34m,\u001b[0m \u001b[0mlen\u001b[0m\u001b[0;34m(\u001b[0m\u001b[0mdata\u001b[0m\u001b[0;34m[\u001b[0m\u001b[0;36m0\u001b[0m\u001b[0;34m]\u001b[0m\u001b[0;34m)\u001b[0m\u001b[0;34m\u001b[0m\u001b[0;34m\u001b[0m\u001b[0m\n\u001b[1;32m      5\u001b[0m \u001b[0;32mfor\u001b[0m \u001b[0mi\u001b[0m\u001b[0;34m,\u001b[0m \u001b[0mrow\u001b[0m \u001b[0;32min\u001b[0m \u001b[0menumerate\u001b[0m\u001b[0;34m(\u001b[0m\u001b[0mdata\u001b[0m\u001b[0;34m)\u001b[0m\u001b[0;34m:\u001b[0m\u001b[0;34m\u001b[0m\u001b[0;34m\u001b[0m\u001b[0m\n",
      "\u001b[0;32m~/anaconda3/lib/python3.7/site-packages/pandas/core/frame.py\u001b[0m in \u001b[0;36m__getitem__\u001b[0;34m(self, key)\u001b[0m\n\u001b[1;32m   2925\u001b[0m             \u001b[0;32mif\u001b[0m \u001b[0mself\u001b[0m\u001b[0;34m.\u001b[0m\u001b[0mcolumns\u001b[0m\u001b[0;34m.\u001b[0m\u001b[0mnlevels\u001b[0m \u001b[0;34m>\u001b[0m \u001b[0;36m1\u001b[0m\u001b[0;34m:\u001b[0m\u001b[0;34m\u001b[0m\u001b[0;34m\u001b[0m\u001b[0m\n\u001b[1;32m   2926\u001b[0m                 \u001b[0;32mreturn\u001b[0m \u001b[0mself\u001b[0m\u001b[0;34m.\u001b[0m\u001b[0m_getitem_multilevel\u001b[0m\u001b[0;34m(\u001b[0m\u001b[0mkey\u001b[0m\u001b[0;34m)\u001b[0m\u001b[0;34m\u001b[0m\u001b[0;34m\u001b[0m\u001b[0m\n\u001b[0;32m-> 2927\u001b[0;31m             \u001b[0mindexer\u001b[0m \u001b[0;34m=\u001b[0m \u001b[0mself\u001b[0m\u001b[0;34m.\u001b[0m\u001b[0mcolumns\u001b[0m\u001b[0;34m.\u001b[0m\u001b[0mget_loc\u001b[0m\u001b[0;34m(\u001b[0m\u001b[0mkey\u001b[0m\u001b[0;34m)\u001b[0m\u001b[0;34m\u001b[0m\u001b[0;34m\u001b[0m\u001b[0m\n\u001b[0m\u001b[1;32m   2928\u001b[0m             \u001b[0;32mif\u001b[0m \u001b[0mis_integer\u001b[0m\u001b[0;34m(\u001b[0m\u001b[0mindexer\u001b[0m\u001b[0;34m)\u001b[0m\u001b[0;34m:\u001b[0m\u001b[0;34m\u001b[0m\u001b[0;34m\u001b[0m\u001b[0m\n\u001b[1;32m   2929\u001b[0m                 \u001b[0mindexer\u001b[0m \u001b[0;34m=\u001b[0m \u001b[0;34m[\u001b[0m\u001b[0mindexer\u001b[0m\u001b[0;34m]\u001b[0m\u001b[0;34m\u001b[0m\u001b[0;34m\u001b[0m\u001b[0m\n",
      "\u001b[0;32m~/anaconda3/lib/python3.7/site-packages/pandas/core/indexes/base.py\u001b[0m in \u001b[0;36mget_loc\u001b[0;34m(self, key, method, tolerance)\u001b[0m\n\u001b[1;32m   2657\u001b[0m                 \u001b[0;32mreturn\u001b[0m \u001b[0mself\u001b[0m\u001b[0;34m.\u001b[0m\u001b[0m_engine\u001b[0m\u001b[0;34m.\u001b[0m\u001b[0mget_loc\u001b[0m\u001b[0;34m(\u001b[0m\u001b[0mkey\u001b[0m\u001b[0;34m)\u001b[0m\u001b[0;34m\u001b[0m\u001b[0;34m\u001b[0m\u001b[0m\n\u001b[1;32m   2658\u001b[0m             \u001b[0;32mexcept\u001b[0m \u001b[0mKeyError\u001b[0m\u001b[0;34m:\u001b[0m\u001b[0;34m\u001b[0m\u001b[0;34m\u001b[0m\u001b[0m\n\u001b[0;32m-> 2659\u001b[0;31m                 \u001b[0;32mreturn\u001b[0m \u001b[0mself\u001b[0m\u001b[0;34m.\u001b[0m\u001b[0m_engine\u001b[0m\u001b[0;34m.\u001b[0m\u001b[0mget_loc\u001b[0m\u001b[0;34m(\u001b[0m\u001b[0mself\u001b[0m\u001b[0;34m.\u001b[0m\u001b[0m_maybe_cast_indexer\u001b[0m\u001b[0;34m(\u001b[0m\u001b[0mkey\u001b[0m\u001b[0;34m)\u001b[0m\u001b[0;34m)\u001b[0m\u001b[0;34m\u001b[0m\u001b[0;34m\u001b[0m\u001b[0m\n\u001b[0m\u001b[1;32m   2660\u001b[0m         \u001b[0mindexer\u001b[0m \u001b[0;34m=\u001b[0m \u001b[0mself\u001b[0m\u001b[0;34m.\u001b[0m\u001b[0mget_indexer\u001b[0m\u001b[0;34m(\u001b[0m\u001b[0;34m[\u001b[0m\u001b[0mkey\u001b[0m\u001b[0;34m]\u001b[0m\u001b[0;34m,\u001b[0m \u001b[0mmethod\u001b[0m\u001b[0;34m=\u001b[0m\u001b[0mmethod\u001b[0m\u001b[0;34m,\u001b[0m \u001b[0mtolerance\u001b[0m\u001b[0;34m=\u001b[0m\u001b[0mtolerance\u001b[0m\u001b[0;34m)\u001b[0m\u001b[0;34m\u001b[0m\u001b[0;34m\u001b[0m\u001b[0m\n\u001b[1;32m   2661\u001b[0m         \u001b[0;32mif\u001b[0m \u001b[0mindexer\u001b[0m\u001b[0;34m.\u001b[0m\u001b[0mndim\u001b[0m \u001b[0;34m>\u001b[0m \u001b[0;36m1\u001b[0m \u001b[0;32mor\u001b[0m \u001b[0mindexer\u001b[0m\u001b[0;34m.\u001b[0m\u001b[0msize\u001b[0m \u001b[0;34m>\u001b[0m \u001b[0;36m1\u001b[0m\u001b[0;34m:\u001b[0m\u001b[0;34m\u001b[0m\u001b[0;34m\u001b[0m\u001b[0m\n",
      "\u001b[0;32mpandas/_libs/index.pyx\u001b[0m in \u001b[0;36mpandas._libs.index.IndexEngine.get_loc\u001b[0;34m()\u001b[0m\n",
      "\u001b[0;32mpandas/_libs/index.pyx\u001b[0m in \u001b[0;36mpandas._libs.index.IndexEngine.get_loc\u001b[0;34m()\u001b[0m\n",
      "\u001b[0;32mpandas/_libs/hashtable_class_helper.pxi\u001b[0m in \u001b[0;36mpandas._libs.hashtable.PyObjectHashTable.get_item\u001b[0;34m()\u001b[0m\n",
      "\u001b[0;32mpandas/_libs/hashtable_class_helper.pxi\u001b[0m in \u001b[0;36mpandas._libs.hashtable.PyObjectHashTable.get_item\u001b[0;34m()\u001b[0m\n",
      "\u001b[0;31mKeyError\u001b[0m: 'data'"
     ]
    }
   ],
   "source": [
    "# Set each data[:][-1] as int instead of str. \n",
    "# If there's one str in the list passed to np.array ALL the elements in np.array will be of type str\n",
    "data = dataset['data']\n",
    "m, n = len(data), len(data[0])\n",
    "for i, row in enumerate(data):\n",
    "    data[i][n - 1] = int(row[n - 1]) \n",
    "\n",
    "# Another way to perform the previous task\n",
    "# data = np.array(dataset['data']).astype('float64')\n",
    "# data"
   ]
  },
  {
   "cell_type": "code",
   "execution_count": 44,
   "metadata": {},
   "outputs": [],
   "source": [
    "data = np.array(data)\n",
    "X = data[:, :-1]\n",
    "y = data[:, -1]\n",
    "\n",
    "# sc = StandardScaler()\n",
    "# X = sc.fit_transform(X)\n",
    "\n",
    "X_train, X_test, y_train, y_test = train_test_split(X, y, test_size=0.2, random_state=0)"
   ]
  },
  {
   "cell_type": "markdown",
   "metadata": {},
   "source": [
    "## Testing the classifiers\n",
    "We'll determine which is the most suitable model for our dataset."
   ]
  },
  {
   "cell_type": "code",
   "execution_count": 27,
   "metadata": {},
   "outputs": [],
   "source": [
    "def display_markdown(txt):\n",
    "    display(Markdown(txt))\n",
    "\n",
    "def classifier_summary(clf, name, X_train, X_test, y_train, y_test, latex=False):\n",
    "    '''clf: Classifier '''\n",
    "    clf.fit(X_train, y_train)\n",
    "    y_pred = clf.predict(X_test)\n",
    "    display_markdown(f'## {name}')\n",
    "    print(accuracy_score(y_test, y_pred))\n",
    "    cm = pd.crosstab(y_test, y_pred)\n",
    "    if latex: print(cm.to_latex())\n",
    "    display(cm)\n",
    "    \n",
    "    "
   ]
  },
  {
   "cell_type": "code",
   "execution_count": null,
   "metadata": {},
   "outputs": [],
   "source": []
  },
  {
   "cell_type": "code",
   "execution_count": 28,
   "metadata": {},
   "outputs": [],
   "source": [
    "\n",
    "lg = LogisticRegression(random_state=0)\n",
    "gnb = GaussianNB()\n",
    "knc = KNeighborsClassifier(n_neighbors=3)\n",
    "dtc = DecisionTreeClassifier(random_state=0)\n",
    "rfc = RandomForestClassifier(random_state=0)\n"
   ]
  },
  {
   "cell_type": "code",
   "execution_count": 29,
   "metadata": {},
   "outputs": [
    {
     "name": "stderr",
     "output_type": "stream",
     "text": [
      "/home/ang3lino/anaconda3/lib/python3.7/site-packages/sklearn/linear_model/logistic.py:432: FutureWarning: Default solver will be changed to 'lbfgs' in 0.22. Specify a solver to silence this warning.\n",
      "  FutureWarning)\n"
     ]
    },
    {
     "data": {
      "text/markdown": [
       "## Logistic \"Regression\""
      ],
      "text/plain": [
       "<IPython.core.display.Markdown object>"
      ]
     },
     "metadata": {},
     "output_type": "display_data"
    },
    {
     "name": "stdout",
     "output_type": "stream",
     "text": [
      "0.6401869158878505\n"
     ]
    },
    {
     "data": {
      "text/html": [
       "<div>\n",
       "<style scoped>\n",
       "    .dataframe tbody tr th:only-of-type {\n",
       "        vertical-align: middle;\n",
       "    }\n",
       "\n",
       "    .dataframe tbody tr th {\n",
       "        vertical-align: top;\n",
       "    }\n",
       "\n",
       "    .dataframe thead th {\n",
       "        text-align: right;\n",
       "    }\n",
       "</style>\n",
       "<table border=\"1\" class=\"dataframe\">\n",
       "  <thead>\n",
       "    <tr style=\"text-align: right;\">\n",
       "      <th>col_0</th>\n",
       "      <th>0.0</th>\n",
       "      <th>1.0</th>\n",
       "    </tr>\n",
       "    <tr>\n",
       "      <th>row_0</th>\n",
       "      <th></th>\n",
       "      <th></th>\n",
       "    </tr>\n",
       "  </thead>\n",
       "  <tbody>\n",
       "    <tr>\n",
       "      <th>0.0</th>\n",
       "      <td>1253</td>\n",
       "      <td>372</td>\n",
       "    </tr>\n",
       "    <tr>\n",
       "      <th>1.0</th>\n",
       "      <td>706</td>\n",
       "      <td>665</td>\n",
       "    </tr>\n",
       "  </tbody>\n",
       "</table>\n",
       "</div>"
      ],
      "text/plain": [
       "col_0   0.0  1.0\n",
       "row_0           \n",
       "0.0    1253  372\n",
       "1.0     706  665"
      ]
     },
     "metadata": {},
     "output_type": "display_data"
    },
    {
     "data": {
      "text/markdown": [
       "## Naive bayes (Gaussian)"
      ],
      "text/plain": [
       "<IPython.core.display.Markdown object>"
      ]
     },
     "metadata": {},
     "output_type": "display_data"
    },
    {
     "name": "stdout",
     "output_type": "stream",
     "text": [
      "0.5100133511348465\n"
     ]
    },
    {
     "data": {
      "text/html": [
       "<div>\n",
       "<style scoped>\n",
       "    .dataframe tbody tr th:only-of-type {\n",
       "        vertical-align: middle;\n",
       "    }\n",
       "\n",
       "    .dataframe tbody tr th {\n",
       "        vertical-align: top;\n",
       "    }\n",
       "\n",
       "    .dataframe thead th {\n",
       "        text-align: right;\n",
       "    }\n",
       "</style>\n",
       "<table border=\"1\" class=\"dataframe\">\n",
       "  <thead>\n",
       "    <tr style=\"text-align: right;\">\n",
       "      <th>col_0</th>\n",
       "      <th>0.0</th>\n",
       "      <th>1.0</th>\n",
       "    </tr>\n",
       "    <tr>\n",
       "      <th>row_0</th>\n",
       "      <th></th>\n",
       "      <th></th>\n",
       "    </tr>\n",
       "  </thead>\n",
       "  <tbody>\n",
       "    <tr>\n",
       "      <th>0.0</th>\n",
       "      <td>514</td>\n",
       "      <td>1111</td>\n",
       "    </tr>\n",
       "    <tr>\n",
       "      <th>1.0</th>\n",
       "      <td>357</td>\n",
       "      <td>1014</td>\n",
       "    </tr>\n",
       "  </tbody>\n",
       "</table>\n",
       "</div>"
      ],
      "text/plain": [
       "col_0  0.0   1.0\n",
       "row_0           \n",
       "0.0    514  1111\n",
       "1.0    357  1014"
      ]
     },
     "metadata": {},
     "output_type": "display_data"
    },
    {
     "data": {
      "text/markdown": [
       "## KNeighbors classifier"
      ],
      "text/plain": [
       "<IPython.core.display.Markdown object>"
      ]
     },
     "metadata": {},
     "output_type": "display_data"
    },
    {
     "name": "stdout",
     "output_type": "stream",
     "text": [
      "0.9722963951935915\n"
     ]
    },
    {
     "data": {
      "text/html": [
       "<div>\n",
       "<style scoped>\n",
       "    .dataframe tbody tr th:only-of-type {\n",
       "        vertical-align: middle;\n",
       "    }\n",
       "\n",
       "    .dataframe tbody tr th {\n",
       "        vertical-align: top;\n",
       "    }\n",
       "\n",
       "    .dataframe thead th {\n",
       "        text-align: right;\n",
       "    }\n",
       "</style>\n",
       "<table border=\"1\" class=\"dataframe\">\n",
       "  <thead>\n",
       "    <tr style=\"text-align: right;\">\n",
       "      <th>col_0</th>\n",
       "      <th>0.0</th>\n",
       "      <th>1.0</th>\n",
       "    </tr>\n",
       "    <tr>\n",
       "      <th>row_0</th>\n",
       "      <th></th>\n",
       "      <th></th>\n",
       "    </tr>\n",
       "  </thead>\n",
       "  <tbody>\n",
       "    <tr>\n",
       "      <th>0.0</th>\n",
       "      <td>1593</td>\n",
       "      <td>32</td>\n",
       "    </tr>\n",
       "    <tr>\n",
       "      <th>1.0</th>\n",
       "      <td>51</td>\n",
       "      <td>1320</td>\n",
       "    </tr>\n",
       "  </tbody>\n",
       "</table>\n",
       "</div>"
      ],
      "text/plain": [
       "col_0   0.0   1.0\n",
       "row_0            \n",
       "0.0    1593    32\n",
       "1.0      51  1320"
      ]
     },
     "metadata": {},
     "output_type": "display_data"
    },
    {
     "data": {
      "text/markdown": [
       "## Decision Tree Classifier"
      ],
      "text/plain": [
       "<IPython.core.display.Markdown object>"
      ]
     },
     "metadata": {},
     "output_type": "display_data"
    },
    {
     "name": "stdout",
     "output_type": "stream",
     "text": [
      "0.8140854472630173\n"
     ]
    },
    {
     "data": {
      "text/html": [
       "<div>\n",
       "<style scoped>\n",
       "    .dataframe tbody tr th:only-of-type {\n",
       "        vertical-align: middle;\n",
       "    }\n",
       "\n",
       "    .dataframe tbody tr th {\n",
       "        vertical-align: top;\n",
       "    }\n",
       "\n",
       "    .dataframe thead th {\n",
       "        text-align: right;\n",
       "    }\n",
       "</style>\n",
       "<table border=\"1\" class=\"dataframe\">\n",
       "  <thead>\n",
       "    <tr style=\"text-align: right;\">\n",
       "      <th>col_0</th>\n",
       "      <th>0.0</th>\n",
       "      <th>1.0</th>\n",
       "    </tr>\n",
       "    <tr>\n",
       "      <th>row_0</th>\n",
       "      <th></th>\n",
       "      <th></th>\n",
       "    </tr>\n",
       "  </thead>\n",
       "  <tbody>\n",
       "    <tr>\n",
       "      <th>0.0</th>\n",
       "      <td>1360</td>\n",
       "      <td>265</td>\n",
       "    </tr>\n",
       "    <tr>\n",
       "      <th>1.0</th>\n",
       "      <td>292</td>\n",
       "      <td>1079</td>\n",
       "    </tr>\n",
       "  </tbody>\n",
       "</table>\n",
       "</div>"
      ],
      "text/plain": [
       "col_0   0.0   1.0\n",
       "row_0            \n",
       "0.0    1360   265\n",
       "1.0     292  1079"
      ]
     },
     "metadata": {},
     "output_type": "display_data"
    },
    {
     "name": "stderr",
     "output_type": "stream",
     "text": [
      "/home/ang3lino/anaconda3/lib/python3.7/site-packages/sklearn/ensemble/forest.py:245: FutureWarning: The default value of n_estimators will change from 10 in version 0.20 to 100 in 0.22.\n",
      "  \"10 in version 0.20 to 100 in 0.22.\", FutureWarning)\n"
     ]
    },
    {
     "data": {
      "text/markdown": [
       "## Random forest classifier"
      ],
      "text/plain": [
       "<IPython.core.display.Markdown object>"
      ]
     },
     "metadata": {},
     "output_type": "display_data"
    },
    {
     "name": "stdout",
     "output_type": "stream",
     "text": [
      "0.8945260347129506\n"
     ]
    },
    {
     "data": {
      "text/html": [
       "<div>\n",
       "<style scoped>\n",
       "    .dataframe tbody tr th:only-of-type {\n",
       "        vertical-align: middle;\n",
       "    }\n",
       "\n",
       "    .dataframe tbody tr th {\n",
       "        vertical-align: top;\n",
       "    }\n",
       "\n",
       "    .dataframe thead th {\n",
       "        text-align: right;\n",
       "    }\n",
       "</style>\n",
       "<table border=\"1\" class=\"dataframe\">\n",
       "  <thead>\n",
       "    <tr style=\"text-align: right;\">\n",
       "      <th>col_0</th>\n",
       "      <th>0.0</th>\n",
       "      <th>1.0</th>\n",
       "    </tr>\n",
       "    <tr>\n",
       "      <th>row_0</th>\n",
       "      <th></th>\n",
       "      <th></th>\n",
       "    </tr>\n",
       "  </thead>\n",
       "  <tbody>\n",
       "    <tr>\n",
       "      <th>0.0</th>\n",
       "      <td>1545</td>\n",
       "      <td>80</td>\n",
       "    </tr>\n",
       "    <tr>\n",
       "      <th>1.0</th>\n",
       "      <td>236</td>\n",
       "      <td>1135</td>\n",
       "    </tr>\n",
       "  </tbody>\n",
       "</table>\n",
       "</div>"
      ],
      "text/plain": [
       "col_0   0.0   1.0\n",
       "row_0            \n",
       "0.0    1545    80\n",
       "1.0     236  1135"
      ]
     },
     "metadata": {},
     "output_type": "display_data"
    }
   ],
   "source": [
    "for clf, name in ((lg,'Logistic \"Regression\"'), (gnb,'Naive bayes (Gaussian)'), \n",
    "                  (knc,'KNeighbors classifier'), \n",
    "                  (dtc,'Decision Tree Classifier'), (rfc, 'Random forest classifier'), ):\n",
    "    classifier_summary(clf, name, X_train, X_test, y_train, y_test)              \n"
   ]
  },
  {
   "cell_type": "code",
   "execution_count": null,
   "metadata": {},
   "outputs": [],
   "source": []
  },
  {
   "cell_type": "code",
   "execution_count": null,
   "metadata": {},
   "outputs": [],
   "source": []
  },
  {
   "cell_type": "code",
   "execution_count": null,
   "metadata": {},
   "outputs": [],
   "source": []
  },
  {
   "cell_type": "code",
   "execution_count": null,
   "metadata": {},
   "outputs": [],
   "source": []
  }
 ],
 "metadata": {
  "kernelspec": {
   "display_name": "Python 3",
   "language": "python",
   "name": "python3"
  },
  "language_info": {
   "codemirror_mode": {
    "name": "ipython",
    "version": 3
   },
   "file_extension": ".py",
   "mimetype": "text/x-python",
   "name": "python",
   "nbconvert_exporter": "python",
   "pygments_lexer": "ipython3",
   "version": "3.7.3"
  }
 },
 "nbformat": 4,
 "nbformat_minor": 2
}
