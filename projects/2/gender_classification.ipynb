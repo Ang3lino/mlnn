{
 "cells": [
  {
   "cell_type": "markdown",
   "metadata": {},
   "source": [
    "# Gender image categorization using neural networks\n",
    "\n",
    "\n",
    "## Author: Ángel López Manríquez\n",
    "\n",
    "\n",
    "### Objectives: \n",
    "Given an image with only one face, determine its gender.\n",
    "### What is done in the Notebook: \n",
    "Preprocessing the data and the use of several classifiers algorithms."
   ]
  },
  {
   "cell_type": "code",
   "execution_count": 1,
   "metadata": {},
   "outputs": [
    {
     "name": "stderr",
     "output_type": "stream",
     "text": [
      "Using TensorFlow backend.\n"
     ]
    }
   ],
   "source": [
    "# datascience libraries\n",
    "import pandas as pd\n",
    "import numpy as np\n",
    "import matplotlib.pyplot as plt\n",
    "import cv2  # computer vision 2 library\n",
    "import cvlib as cv  # face feature\n",
    "import keras\n",
    "\n",
    "# standard python modules\n",
    "import random\n",
    "import os\n",
    "import urllib.request  # fetch images from an url\n",
    "\n",
    "# keras stuff\n",
    "from keras.preprocessing.image import img_to_array\n",
    "from keras.models import load_model\n",
    "from keras.models import Sequential\n",
    "from keras.layers import Dense, Flatten\n",
    "from keras.utils import to_categorical\n",
    "\n",
    "from sklearn.model_selection import train_test_split\n",
    "from sklearn import preprocessing\n",
    "\n",
    "from IPython.display import display, HTML, Markdown  # exclusive for jupyter notebook\n",
    "from tqdm import tqdm  # Very cool progress bar :D\n",
    "from typing import List, Tuple  # Explicit declaration type for collections, python 3.6+\n",
    "from collections import Counter  # counts how many instance we have\n"
   ]
  },
  {
   "cell_type": "code",
   "execution_count": null,
   "metadata": {},
   "outputs": [],
   "source": []
  },
  {
   "cell_type": "code",
   "execution_count": 2,
   "metadata": {},
   "outputs": [],
   "source": [
    "plt.style.use('seaborn')  # improve plot style\n",
    "\n",
    "def display_markdown(*args, **kargs):\n",
    "    '''The main use of is beeing able to display something in a notebook from another function.'''\n",
    "    display(Markdown(*args, **kargs))"
   ]
  },
  {
   "cell_type": "markdown",
   "metadata": {},
   "source": [
    "## Data visualization\n",
    "By loading the dataset, we realize the we only care about the image url and the gender label, everything else is useless. "
   ]
  },
  {
   "cell_type": "code",
   "execution_count": null,
   "metadata": {},
   "outputs": [],
   "source": []
  },
  {
   "cell_type": "code",
   "execution_count": 3,
   "metadata": {
    "scrolled": false
   },
   "outputs": [
    {
     "data": {
      "text/html": [
       "<div>\n",
       "<style scoped>\n",
       "    .dataframe tbody tr th:only-of-type {\n",
       "        vertical-align: middle;\n",
       "    }\n",
       "\n",
       "    .dataframe tbody tr th {\n",
       "        vertical-align: top;\n",
       "    }\n",
       "\n",
       "    .dataframe thead th {\n",
       "        text-align: right;\n",
       "    }\n",
       "</style>\n",
       "<table border=\"1\" class=\"dataframe\">\n",
       "  <thead>\n",
       "    <tr style=\"text-align: right;\">\n",
       "      <th></th>\n",
       "      <th>_unit_id</th>\n",
       "      <th>_golden</th>\n",
       "      <th>_unit_state</th>\n",
       "      <th>_trusted_judgments</th>\n",
       "      <th>_last_judgment_at</th>\n",
       "      <th>please_select_the_gender_of_the_person_in_the_picture</th>\n",
       "      <th>please_select_the_gender_of_the_person_in_the_picture:confidence</th>\n",
       "      <th>image_url</th>\n",
       "      <th>please_select_the_gender_of_the_person_in_the_picture_gold</th>\n",
       "      <th>user_id</th>\n",
       "    </tr>\n",
       "  </thead>\n",
       "  <tbody>\n",
       "    <tr>\n",
       "      <th>0</th>\n",
       "      <td>1023132475</td>\n",
       "      <td>False</td>\n",
       "      <td>finalized</td>\n",
       "      <td>1</td>\n",
       "      <td>8/19/2016 17:00:25</td>\n",
       "      <td>male</td>\n",
       "      <td>1.0</td>\n",
       "      <td>https://d1qb2nb5cznatu.cloudfront.net/users/40...</td>\n",
       "      <td>NaN</td>\n",
       "      <td>40</td>\n",
       "    </tr>\n",
       "    <tr>\n",
       "      <th>1</th>\n",
       "      <td>1023132476</td>\n",
       "      <td>False</td>\n",
       "      <td>finalized</td>\n",
       "      <td>1</td>\n",
       "      <td>8/19/2016 17:00:48</td>\n",
       "      <td>male</td>\n",
       "      <td>1.0</td>\n",
       "      <td>https://d1qb2nb5cznatu.cloudfront.net/users/42...</td>\n",
       "      <td>NaN</td>\n",
       "      <td>42</td>\n",
       "    </tr>\n",
       "    <tr>\n",
       "      <th>2</th>\n",
       "      <td>1023132477</td>\n",
       "      <td>False</td>\n",
       "      <td>finalized</td>\n",
       "      <td>1</td>\n",
       "      <td>8/19/2016 17:01:43</td>\n",
       "      <td>male</td>\n",
       "      <td>1.0</td>\n",
       "      <td>https://d1qb2nb5cznatu.cloudfront.net/users/44...</td>\n",
       "      <td>NaN</td>\n",
       "      <td>44</td>\n",
       "    </tr>\n",
       "    <tr>\n",
       "      <th>3</th>\n",
       "      <td>1023132478</td>\n",
       "      <td>False</td>\n",
       "      <td>finalized</td>\n",
       "      <td>1</td>\n",
       "      <td>8/19/2016 17:01:04</td>\n",
       "      <td>male</td>\n",
       "      <td>1.0</td>\n",
       "      <td>https://d1qb2nb5cznatu.cloudfront.net/users/47...</td>\n",
       "      <td>NaN</td>\n",
       "      <td>47</td>\n",
       "    </tr>\n",
       "    <tr>\n",
       "      <th>4</th>\n",
       "      <td>1023132479</td>\n",
       "      <td>False</td>\n",
       "      <td>finalized</td>\n",
       "      <td>1</td>\n",
       "      <td>8/19/2016 17:00:48</td>\n",
       "      <td>male</td>\n",
       "      <td>1.0</td>\n",
       "      <td>https://d1qb2nb5cznatu.cloudfront.net/users/50...</td>\n",
       "      <td>NaN</td>\n",
       "      <td>50</td>\n",
       "    </tr>\n",
       "  </tbody>\n",
       "</table>\n",
       "</div>"
      ],
      "text/plain": [
       "     _unit_id  _golden _unit_state  _trusted_judgments   _last_judgment_at  \\\n",
       "0  1023132475    False   finalized                   1  8/19/2016 17:00:25   \n",
       "1  1023132476    False   finalized                   1  8/19/2016 17:00:48   \n",
       "2  1023132477    False   finalized                   1  8/19/2016 17:01:43   \n",
       "3  1023132478    False   finalized                   1  8/19/2016 17:01:04   \n",
       "4  1023132479    False   finalized                   1  8/19/2016 17:00:48   \n",
       "\n",
       "  please_select_the_gender_of_the_person_in_the_picture  \\\n",
       "0                                               male      \n",
       "1                                               male      \n",
       "2                                               male      \n",
       "3                                               male      \n",
       "4                                               male      \n",
       "\n",
       "   please_select_the_gender_of_the_person_in_the_picture:confidence  \\\n",
       "0                                                1.0                  \n",
       "1                                                1.0                  \n",
       "2                                                1.0                  \n",
       "3                                                1.0                  \n",
       "4                                                1.0                  \n",
       "\n",
       "                                           image_url  \\\n",
       "0  https://d1qb2nb5cznatu.cloudfront.net/users/40...   \n",
       "1  https://d1qb2nb5cznatu.cloudfront.net/users/42...   \n",
       "2  https://d1qb2nb5cznatu.cloudfront.net/users/44...   \n",
       "3  https://d1qb2nb5cznatu.cloudfront.net/users/47...   \n",
       "4  https://d1qb2nb5cznatu.cloudfront.net/users/50...   \n",
       "\n",
       "  please_select_the_gender_of_the_person_in_the_picture_gold  user_id  \n",
       "0                                                NaN               40  \n",
       "1                                                NaN               42  \n",
       "2                                                NaN               44  \n",
       "3                                                NaN               47  \n",
       "4                                                NaN               50  "
      ]
     },
     "execution_count": 3,
     "metadata": {},
     "output_type": "execute_result"
    }
   ],
   "source": [
    "fname = 'a943287.csv'  # dataset name\n",
    "df = pd.read_csv(fname)  # read csv as DataFrame object\n",
    "df.head()  # fetch the first five rows"
   ]
  },
  {
   "cell_type": "markdown",
   "metadata": {},
   "source": [
    "Let's count the number of instances per class.\n",
    "\n"
   ]
  },
  {
   "cell_type": "code",
   "execution_count": 4,
   "metadata": {},
   "outputs": [
    {
     "data": {
      "text/plain": [
       "Counter({'male': 47595, 'female': 7367, 'unsure': 9122})"
      ]
     },
     "metadata": {},
     "output_type": "display_data"
    }
   ],
   "source": [
    "gender_labels = df.please_select_the_gender_of_the_person_in_the_picture.values\n",
    "counter = Counter(gender_labels)\n",
    "display(counter)  # display unique label values"
   ]
  },
  {
   "cell_type": "code",
   "execution_count": 5,
   "metadata": {},
   "outputs": [
    {
     "data": {
      "image/png": "[encoded data removed]",
      "text/plain": [
       "<Figure size 576x396 with 1 Axes>"
      ]
     },
     "metadata": {},
     "output_type": "display_data"
    }
   ],
   "source": [
    "# Plot the histogram related to the amount of genders\n",
    "labels, values = zip(*counter.items())\n",
    "\n",
    "indexes = np.arange(len(labels))\n",
    "width = 1\n",
    "\n",
    "plt.bar(indexes, values, width)\n",
    "plt.xticks(indexes + width * 0.5, labels)\n",
    "plt.show()"
   ]
  },
  {
   "cell_type": "markdown",
   "metadata": {},
   "source": [
    "We realize there are some images which does not contain faces, tagged as 'unsure', we will drop them.\n",
    "Also, we have more samples for man than woman, Our approach will be training the model with the same amount of man and woman faces."
   ]
  },
  {
   "cell_type": "code",
   "execution_count": 6,
   "metadata": {},
   "outputs": [
    {
     "data": {
      "text/plain": [
       "'Lenght with \"unsure\" labels'"
      ]
     },
     "metadata": {},
     "output_type": "display_data"
    },
    {
     "data": {
      "text/plain": [
       "(64084, 10)"
      ]
     },
     "metadata": {},
     "output_type": "display_data"
    },
    {
     "data": {
      "text/plain": [
       "'Lenght without \"unsure\" labels'"
      ]
     },
     "metadata": {},
     "output_type": "display_data"
    },
    {
     "data": {
      "text/plain": [
       "(54962, 10)"
      ]
     },
     "metadata": {},
     "output_type": "display_data"
    }
   ],
   "source": [
    "display('''Lenght with \"unsure\" labels''', df.shape)\n",
    "df = df[df.please_select_the_gender_of_the_person_in_the_picture != 'unsure']  # drop irrelevant rows\n",
    "display('''Lenght without \"unsure\" labels''', df.shape)"
   ]
  },
  {
   "cell_type": "code",
   "execution_count": 7,
   "metadata": {},
   "outputs": [
    {
     "data": {
      "text/html": [
       "<div>\n",
       "<style scoped>\n",
       "    .dataframe tbody tr th:only-of-type {\n",
       "        vertical-align: middle;\n",
       "    }\n",
       "\n",
       "    .dataframe tbody tr th {\n",
       "        vertical-align: top;\n",
       "    }\n",
       "\n",
       "    .dataframe thead th {\n",
       "        text-align: right;\n",
       "    }\n",
       "</style>\n",
       "<table border=\"1\" class=\"dataframe\">\n",
       "  <thead>\n",
       "    <tr style=\"text-align: right;\">\n",
       "      <th></th>\n",
       "      <th>url</th>\n",
       "      <th>gender</th>\n",
       "    </tr>\n",
       "  </thead>\n",
       "  <tbody>\n",
       "    <tr>\n",
       "      <th>0</th>\n",
       "      <td>https://d1qb2nb5cznatu.cloudfront.net/users/40...</td>\n",
       "      <td>male</td>\n",
       "    </tr>\n",
       "    <tr>\n",
       "      <th>1</th>\n",
       "      <td>https://d1qb2nb5cznatu.cloudfront.net/users/42...</td>\n",
       "      <td>male</td>\n",
       "    </tr>\n",
       "    <tr>\n",
       "      <th>2</th>\n",
       "      <td>https://d1qb2nb5cznatu.cloudfront.net/users/44...</td>\n",
       "      <td>male</td>\n",
       "    </tr>\n",
       "    <tr>\n",
       "      <th>3</th>\n",
       "      <td>https://d1qb2nb5cznatu.cloudfront.net/users/47...</td>\n",
       "      <td>male</td>\n",
       "    </tr>\n",
       "    <tr>\n",
       "      <th>4</th>\n",
       "      <td>https://d1qb2nb5cznatu.cloudfront.net/users/50...</td>\n",
       "      <td>male</td>\n",
       "    </tr>\n",
       "  </tbody>\n",
       "</table>\n",
       "</div>"
      ],
      "text/plain": [
       "                                                 url gender\n",
       "0  https://d1qb2nb5cznatu.cloudfront.net/users/40...   male\n",
       "1  https://d1qb2nb5cznatu.cloudfront.net/users/42...   male\n",
       "2  https://d1qb2nb5cznatu.cloudfront.net/users/44...   male\n",
       "3  https://d1qb2nb5cznatu.cloudfront.net/users/47...   male\n",
       "4  https://d1qb2nb5cznatu.cloudfront.net/users/50...   male"
      ]
     },
     "metadata": {},
     "output_type": "display_data"
    }
   ],
   "source": [
    "df = df[['image_url', 'please_select_the_gender_of_the_person_in_the_picture']]  # choose relevant columns\n",
    "df.rename(columns={'image_url':'url',\n",
    "                          'please_select_the_gender_of_the_person_in_the_picture':'gender'}, \n",
    "                 inplace=True)  # Rename the columns\n",
    "display(df.head())  # Display the dataset with the relevant columns"
   ]
  },
  {
   "cell_type": "code",
   "execution_count": 8,
   "metadata": {},
   "outputs": [],
   "source": [
    "\n",
    "X = df['url'].values  # list of urls where will be able to download the image\n",
    "y = df['gender'].values\n"
   ]
  },
  {
   "cell_type": "markdown",
   "metadata": {},
   "source": [
    "### Setting the dataset\n",
    "Now, let's download the dataset. We will download the images, create directoris img, img/male, img/female and store the images in the corresponding directory.\n",
    "\n",
    "Some images could not be downloaded (they doesn't exists anymore), some of them could not be opened, we discard them."
   ]
  },
  {
   "cell_type": "code",
   "execution_count": 9,
   "metadata": {},
   "outputs": [],
   "source": [
    "\n",
    "def make_dir(folder: str) -> None:\n",
    "    '''Create the folder even, if it exists no changes or exceptions will be executed. '''\n",
    "    if not os.path.exists(folder):\n",
    "        os.mkdir(folder)\n",
    "\n",
    "def save_img(img_url: str, filepath: str) -> np.array:\n",
    "    '''Create the file and save it, if we cannot download it an exception will be raised.\n",
    "    We may return a None object, meaning that we could not open the image (very weird scenario). '''\n",
    "    try:\n",
    "        with urllib.request.urlopen(img_url) as url:\n",
    "            s = url.read()  # read the image in the website if posible.\n",
    "    except urllib.error.HTTPError as e:\n",
    "        print(e)\n",
    "        raise\n",
    "    with open(filepath, 'wb') as f:\n",
    "        f.write(s)  # save the image\n",
    "    return cv2.imread(filepath)  # return the image as np.array\n"
   ]
  },
  {
   "cell_type": "code",
   "execution_count": null,
   "metadata": {},
   "outputs": [],
   "source": []
  },
  {
   "cell_type": "code",
   "execution_count": 10,
   "metadata": {},
   "outputs": [],
   "source": [
    "def download_males_females(df, n: int, label_names=['female', 'male']):\n",
    "    '''Download n images for each gender.'''\n",
    "    i = 0\n",
    "    imgs, labels = [], []  # define containers\n",
    "    for name, group in df.groupby('gender'):  # group them, we attempt to balance the number of instances\n",
    "        download_count = 0 \n",
    "        for row_index, row in group.iterrows():\n",
    "            try:\n",
    "                fpath = os.path.join('img', row['gender'], f'{i}.jpeg')\n",
    "                im = save_img(row['url'], fpath)  # exception may occur here\n",
    "                if im is None:  # The image exists, we store it but we couldn't opened it. Remove it and try the next one\n",
    "                    if os.path.exists(fpath): os.remove(fpath)\n",
    "                    print(f'Cannot open {fpath}')\n",
    "                    continue\n",
    "                imgs.append(im)\n",
    "                labels.append(row['gender'])\n",
    "                download_count += 1\n",
    "                print(f' {download_count} / {n}', end='  ')\n",
    "            except urllib.error.HTTPError:\n",
    "                print(f'Image {i} could not be download or open, trying the next one.')\n",
    "            i += 1\n",
    "            if download_count == n: break  # We have reached the number of instances required\n",
    "    return imgs, labels\n"
   ]
  },
  {
   "cell_type": "code",
   "execution_count": 11,
   "metadata": {},
   "outputs": [],
   "source": [
    "def gender_imgs(gender: str, n: int) -> List[np.array]:\n",
    "    '''Returns an array for the first n images in the directory, gender must be male or female.'''\n",
    "    subdir = os.path.join('img', gender)\n",
    "    bnames = list(os.listdir(subdir))\n",
    "    bnames.sort()  # sort the content, by default listdir doesn't guarantee the result sorted\n",
    "    bnames = bnames[:n]\n",
    "    # result = [cv2.imread(os.path.join(subdir, bname), cv2.IMREAD_GRAYSCALE) for bname in bnames]\n",
    "    result = [cv2.imread(os.path.join(subdir, bname)) for bname in bnames]\n",
    "    return result\n",
    "\n",
    "def get_dataset(n: int):\n",
    "    '''Store the dataset, we suppose the images are already downloaded in each directory. '''\n",
    "    males = gender_imgs('male', n)  # get gender images array\n",
    "    females = gender_imgs('female', n)\n",
    "    X = females\n",
    "    y = [0 for _ in females]  # define the indepent variable\n",
    "    X += males  # extend the X variable\n",
    "    y += [1 for _ in males]  # extend the labels, very important to do so in this order\n",
    "    return X, y"
   ]
  },
  {
   "cell_type": "code",
   "execution_count": null,
   "metadata": {},
   "outputs": [],
   "source": []
  },
  {
   "cell_type": "code",
   "execution_count": 12,
   "metadata": {},
   "outputs": [],
   "source": [
    "\n",
    "def set_local_dataset(df, n: int) -> Tuple[list, list]:\n",
    "    '''Returns a tuple of list X, y. Each x in X will be an image as np.array.'''\n",
    "    \n",
    "    # make the directories appropiately\n",
    "    make_dir('img')\n",
    "    make_dir(os.path.join('img', 'male'))\n",
    "    make_dir(os.path.join('img', 'female'))\n",
    "    \n",
    "    # how many images have we downloaded ?\n",
    "    male_img_length = len(os.listdir(os.path.join('img', 'male')))\n",
    "    female_img_length = len(os.listdir(os.path.join('img', 'female')))\n",
    "    \n",
    "    if male_img_length >= n and female_img_length >= n:  # we have enough images downloaded ? \n",
    "        return get_dataset(n)\n",
    "    # we have already downloaded, return them\n",
    "    return download_males_females(df, n)  "
   ]
  },
  {
   "cell_type": "code",
   "execution_count": 55,
   "metadata": {},
   "outputs": [
    {
     "name": "stdout",
     "output_type": "stream",
     "text": [
      " 1 / 1024   2 / 1024   3 / 1024   4 / 1024  HTTP Error 403: Forbidden\n",
      "Image 4 could not be download or open, trying the next one.\n",
      " 5 / 1024   6 / 1024   7 / 1024   8 / 1024   9 / 1024   10 / 1024   11 / 1024   12 / 1024   13 / 1024   14 / 1024   15 / 1024   16 / 1024   17 / 1024   18 / 1024   19 / 1024   20 / 1024   21 / 1024   22 / 1024   23 / 1024   24 / 1024   25 / 1024   26 / 1024   27 / 1024  Cannot open img/female/28.jpeg\n",
      " 28 / 1024   29 / 1024   30 / 1024   31 / 1024   32 / 1024   33 / 1024   34 / 1024   35 / 1024   36 / 1024   37 / 1024   38 / 1024   39 / 1024   40 / 1024   41 / 1024   42 / 1024   43 / 1024   44 / 1024   45 / 1024   46 / 1024   47 / 1024   48 / 1024   49 / 1024  Cannot open img/female/50.jpeg\n",
      " 50 / 1024   51 / 1024   52 / 1024   53 / 1024   54 / 1024   55 / 1024   56 / 1024   57 / 1024   58 / 1024   59 / 1024   60 / 1024   61 / 1024   62 / 1024   63 / 1024   64 / 1024   65 / 1024   66 / 1024   67 / 1024   68 / 1024   69 / 1024   70 / 1024   71 / 1024   72 / 1024   73 / 1024   74 / 1024   75 / 1024   76 / 1024   77 / 1024   78 / 1024   79 / 1024   80 / 1024   81 / 1024   82 / 1024   83 / 1024   84 / 1024   85 / 1024   86 / 1024   87 / 1024   88 / 1024   89 / 1024   90 / 1024   91 / 1024   92 / 1024   93 / 1024   94 / 1024   95 / 1024   96 / 1024   97 / 1024   98 / 1024   99 / 1024   100 / 1024   101 / 1024   102 / 1024   103 / 1024  HTTP Error 403: Forbidden\n",
      "Image 104 could not be download or open, trying the next one.\n",
      " 104 / 1024   105 / 1024   106 / 1024   107 / 1024   108 / 1024   109 / 1024   110 / 1024   111 / 1024  HTTP Error 403: Forbidden\n",
      "Image 113 could not be download or open, trying the next one.\n",
      " 112 / 1024   113 / 1024   114 / 1024   115 / 1024   116 / 1024   117 / 1024   118 / 1024   119 / 1024   120 / 1024   121 / 1024   122 / 1024   123 / 1024   124 / 1024   125 / 1024   126 / 1024   127 / 1024   128 / 1024   129 / 1024   130 / 1024   131 / 1024   132 / 1024   133 / 1024   134 / 1024   135 / 1024   136 / 1024   137 / 1024   138 / 1024   139 / 1024   140 / 1024   141 / 1024   142 / 1024   143 / 1024   144 / 1024   145 / 1024   146 / 1024   147 / 1024   148 / 1024   149 / 1024   150 / 1024   151 / 1024   152 / 1024   153 / 1024   154 / 1024   155 / 1024   156 / 1024   157 / 1024   158 / 1024   159 / 1024   160 / 1024   161 / 1024   162 / 1024   163 / 1024   164 / 1024   165 / 1024   166 / 1024   167 / 1024   168 / 1024   169 / 1024   170 / 1024   171 / 1024   172 / 1024   173 / 1024   174 / 1024   175 / 1024   176 / 1024   177 / 1024   178 / 1024   179 / 1024   180 / 1024   181 / 1024   182 / 1024   183 / 1024   184 / 1024   185 / 1024  HTTP Error 403: Forbidden\n",
      "Image 188 could not be download or open, trying the next one.\n",
      " 186 / 1024   187 / 1024   188 / 1024   189 / 1024   190 / 1024   191 / 1024   192 / 1024   193 / 1024   194 / 1024   195 / 1024   196 / 1024   197 / 1024   198 / 1024   199 / 1024   200 / 1024   201 / 1024   202 / 1024   203 / 1024   204 / 1024   205 / 1024   206 / 1024   207 / 1024   208 / 1024   209 / 1024   210 / 1024   211 / 1024   212 / 1024   213 / 1024   214 / 1024   215 / 1024   216 / 1024   217 / 1024   218 / 1024   219 / 1024   220 / 1024   221 / 1024   222 / 1024   223 / 1024   224 / 1024   225 / 1024   226 / 1024   227 / 1024   228 / 1024   229 / 1024   230 / 1024   231 / 1024   232 / 1024   233 / 1024   234 / 1024   235 / 1024   236 / 1024   237 / 1024   238 / 1024   239 / 1024   240 / 1024   241 / 1024   242 / 1024   243 / 1024   244 / 1024   245 / 1024   246 / 1024   247 / 1024   248 / 1024   249 / 1024   250 / 1024  HTTP Error 403: Forbidden\n",
      "Image 254 could not be download or open, trying the next one.\n",
      " 251 / 1024   252 / 1024   253 / 1024   254 / 1024   255 / 1024   256 / 1024   257 / 1024   258 / 1024   259 / 1024   260 / 1024   261 / 1024   262 / 1024   263 / 1024   264 / 1024   265 / 1024   266 / 1024   267 / 1024   268 / 1024   269 / 1024   270 / 1024   271 / 1024   272 / 1024   273 / 1024   274 / 1024   275 / 1024   276 / 1024   277 / 1024   278 / 1024   279 / 1024   280 / 1024   281 / 1024   282 / 1024   283 / 1024   284 / 1024   285 / 1024   286 / 1024   287 / 1024   288 / 1024   289 / 1024   290 / 1024   291 / 1024   292 / 1024   293 / 1024   294 / 1024   295 / 1024   296 / 1024  HTTP Error 403: Forbidden\n",
      "Image 301 could not be download or open, trying the next one.\n",
      " 297 / 1024   298 / 1024   299 / 1024   300 / 1024   301 / 1024   302 / 1024   303 / 1024   304 / 1024   305 / 1024   306 / 1024   307 / 1024   308 / 1024   309 / 1024   310 / 1024   311 / 1024   312 / 1024   313 / 1024  HTTP Error 403: Forbidden\n",
      "Image 319 could not be download or open, trying the next one.\n",
      " 314 / 1024   315 / 1024   316 / 1024   317 / 1024   318 / 1024   319 / 1024   320 / 1024   321 / 1024   322 / 1024   323 / 1024   324 / 1024   325 / 1024   326 / 1024   327 / 1024   328 / 1024   329 / 1024   330 / 1024   331 / 1024   332 / 1024   333 / 1024   334 / 1024   335 / 1024   336 / 1024   337 / 1024   338 / 1024   339 / 1024   340 / 1024   341 / 1024   342 / 1024   343 / 1024   344 / 1024   345 / 1024   346 / 1024   347 / 1024   348 / 1024   349 / 1024   350 / 1024   351 / 1024   352 / 1024   353 / 1024   354 / 1024   355 / 1024   356 / 1024   357 / 1024   358 / 1024   359 / 1024   360 / 1024   361 / 1024   362 / 1024   363 / 1024   364 / 1024   365 / 1024  HTTP Error 403: Forbidden\n",
      "Image 372 could not be download or open, trying the next one.\n",
      " 366 / 1024   367 / 1024   368 / 1024   369 / 1024   370 / 1024   371 / 1024   372 / 1024   373 / 1024   374 / 1024   375 / 1024   376 / 1024   377 / 1024   378 / 1024   379 / 1024   380 / 1024   381 / 1024   382 / 1024  Cannot open img/female/390.jpeg\n",
      " 383 / 1024   384 / 1024   385 / 1024   386 / 1024   387 / 1024   388 / 1024   389 / 1024   390 / 1024   391 / 1024   392 / 1024   393 / 1024   394 / 1024   395 / 1024   396 / 1024   397 / 1024   398 / 1024   399 / 1024   400 / 1024   401 / 1024   402 / 1024   403 / 1024   404 / 1024   405 / 1024   406 / 1024   407 / 1024   408 / 1024   409 / 1024   410 / 1024   411 / 1024   412 / 1024   413 / 1024   414 / 1024   415 / 1024   416 / 1024   417 / 1024   418 / 1024   419 / 1024   420 / 1024   421 / 1024   422 / 1024   423 / 1024   424 / 1024   425 / 1024   426 / 1024   427 / 1024   428 / 1024   429 / 1024   430 / 1024   431 / 1024   432 / 1024   433 / 1024   434 / 1024   435 / 1024   436 / 1024   437 / 1024   438 / 1024   439 / 1024   440 / 1024   441 / 1024   442 / 1024   443 / 1024   444 / 1024   445 / 1024   446 / 1024   447 / 1024   448 / 1024   449 / 1024   450 / 1024   451 / 1024   452 / 1024   453 / 1024   454 / 1024   455 / 1024   456 / 1024   457 / 1024   458 / 1024   459 / 1024   460 / 1024   461 / 1024   462 / 1024   463 / 1024   464 / 1024   465 / 1024   466 / 1024   467 / 1024   468 / 1024   469 / 1024   470 / 1024   471 / 1024   472 / 1024   473 / 1024   474 / 1024   475 / 1024   476 / 1024   477 / 1024   478 / 1024   479 / 1024  HTTP Error 403: Forbidden\n",
      "Image 487 could not be download or open, trying the next one.\n"
     ]
    },
    {
     "name": "stdout",
     "output_type": "stream",
     "text": [
      " 480 / 1024   481 / 1024   482 / 1024   483 / 1024   484 / 1024   485 / 1024   486 / 1024   487 / 1024   488 / 1024   489 / 1024   490 / 1024   491 / 1024   492 / 1024   493 / 1024   494 / 1024   495 / 1024   496 / 1024   497 / 1024   498 / 1024   499 / 1024   500 / 1024   501 / 1024   502 / 1024   503 / 1024   504 / 1024   505 / 1024   506 / 1024   507 / 1024   508 / 1024   509 / 1024   510 / 1024   511 / 1024   512 / 1024   513 / 1024   514 / 1024   515 / 1024   516 / 1024   517 / 1024   518 / 1024   519 / 1024   520 / 1024   521 / 1024   522 / 1024   523 / 1024   524 / 1024   525 / 1024   526 / 1024   527 / 1024   528 / 1024   529 / 1024   530 / 1024   531 / 1024   532 / 1024   533 / 1024   534 / 1024   535 / 1024   536 / 1024   537 / 1024   538 / 1024   539 / 1024   540 / 1024   541 / 1024   542 / 1024   543 / 1024   544 / 1024   545 / 1024   546 / 1024   547 / 1024   548 / 1024   549 / 1024   550 / 1024   551 / 1024   552 / 1024   553 / 1024   554 / 1024   555 / 1024   556 / 1024   557 / 1024   558 / 1024   559 / 1024   560 / 1024   561 / 1024   562 / 1024   563 / 1024   564 / 1024   565 / 1024   566 / 1024   567 / 1024   568 / 1024   569 / 1024   570 / 1024   571 / 1024   572 / 1024   573 / 1024   574 / 1024   575 / 1024   576 / 1024   577 / 1024   578 / 1024   579 / 1024   580 / 1024   581 / 1024   582 / 1024   583 / 1024   584 / 1024   585 / 1024   586 / 1024   587 / 1024   588 / 1024   589 / 1024   590 / 1024   591 / 1024   592 / 1024   593 / 1024   594 / 1024   595 / 1024   596 / 1024   597 / 1024   598 / 1024   599 / 1024   600 / 1024   601 / 1024   602 / 1024   603 / 1024   604 / 1024   605 / 1024   606 / 1024   607 / 1024   608 / 1024   609 / 1024   610 / 1024   611 / 1024   612 / 1024   613 / 1024   614 / 1024   615 / 1024   616 / 1024   617 / 1024   618 / 1024   619 / 1024   620 / 1024   621 / 1024   622 / 1024   623 / 1024   624 / 1024   625 / 1024   626 / 1024   627 / 1024   628 / 1024   629 / 1024   630 / 1024   631 / 1024   632 / 1024   633 / 1024   634 / 1024   635 / 1024   636 / 1024   637 / 1024   638 / 1024   639 / 1024   640 / 1024   641 / 1024   642 / 1024   643 / 1024   644 / 1024   645 / 1024   646 / 1024   647 / 1024   648 / 1024   649 / 1024   650 / 1024   651 / 1024   652 / 1024   653 / 1024   654 / 1024   655 / 1024   656 / 1024   657 / 1024  HTTP Error 403: Forbidden\n",
      "Image 666 could not be download or open, trying the next one.\n",
      " 658 / 1024   659 / 1024   660 / 1024   661 / 1024   662 / 1024   663 / 1024   664 / 1024   665 / 1024   666 / 1024   667 / 1024   668 / 1024   669 / 1024   670 / 1024   671 / 1024   672 / 1024   673 / 1024   674 / 1024   675 / 1024   676 / 1024   677 / 1024   678 / 1024   679 / 1024   680 / 1024   681 / 1024   682 / 1024   683 / 1024   684 / 1024   685 / 1024   686 / 1024   687 / 1024   688 / 1024   689 / 1024   690 / 1024  HTTP Error 403: Forbidden\n",
      "Image 700 could not be download or open, trying the next one.\n",
      " 691 / 1024   692 / 1024   693 / 1024   694 / 1024   695 / 1024   696 / 1024   697 / 1024   698 / 1024   699 / 1024   700 / 1024   701 / 1024   702 / 1024   703 / 1024   704 / 1024   705 / 1024   706 / 1024   707 / 1024   708 / 1024   709 / 1024   710 / 1024   711 / 1024   712 / 1024   713 / 1024   714 / 1024   715 / 1024   716 / 1024   717 / 1024   718 / 1024   719 / 1024   720 / 1024   721 / 1024   722 / 1024   723 / 1024   724 / 1024   725 / 1024   726 / 1024   727 / 1024   728 / 1024   729 / 1024   730 / 1024   731 / 1024   732 / 1024   733 / 1024   734 / 1024   735 / 1024   736 / 1024   737 / 1024   738 / 1024   739 / 1024   740 / 1024   741 / 1024   742 / 1024   743 / 1024   744 / 1024   745 / 1024   746 / 1024   747 / 1024   748 / 1024   749 / 1024   750 / 1024   751 / 1024   752 / 1024   753 / 1024   754 / 1024   755 / 1024   756 / 1024   757 / 1024   758 / 1024   759 / 1024   760 / 1024   761 / 1024   762 / 1024   763 / 1024   764 / 1024   765 / 1024   766 / 1024   767 / 1024   768 / 1024   769 / 1024   770 / 1024   771 / 1024   772 / 1024   773 / 1024   774 / 1024   775 / 1024   776 / 1024   777 / 1024   778 / 1024  Cannot open img/female/789.jpeg\n",
      " 779 / 1024   780 / 1024   781 / 1024   782 / 1024   783 / 1024   784 / 1024   785 / 1024   786 / 1024   787 / 1024   788 / 1024   789 / 1024   790 / 1024   791 / 1024   792 / 1024   793 / 1024   794 / 1024   795 / 1024   796 / 1024   797 / 1024   798 / 1024   799 / 1024   800 / 1024   801 / 1024   802 / 1024   803 / 1024   804 / 1024   805 / 1024   806 / 1024   807 / 1024   808 / 1024   809 / 1024   810 / 1024   811 / 1024   812 / 1024   813 / 1024   814 / 1024   815 / 1024   816 / 1024   817 / 1024   818 / 1024   819 / 1024   820 / 1024   821 / 1024   822 / 1024   823 / 1024   824 / 1024   825 / 1024   826 / 1024   827 / 1024   828 / 1024   829 / 1024   830 / 1024   831 / 1024   832 / 1024   833 / 1024   834 / 1024   835 / 1024   836 / 1024   837 / 1024   838 / 1024   839 / 1024   840 / 1024   841 / 1024   842 / 1024   843 / 1024   844 / 1024   845 / 1024   846 / 1024   847 / 1024   848 / 1024   849 / 1024   850 / 1024   851 / 1024   852 / 1024   853 / 1024   854 / 1024   855 / 1024   856 / 1024   857 / 1024   858 / 1024   859 / 1024   860 / 1024   861 / 1024   862 / 1024   863 / 1024   864 / 1024   865 / 1024   866 / 1024   867 / 1024   868 / 1024   869 / 1024   870 / 1024   871 / 1024   872 / 1024   873 / 1024   874 / 1024   875 / 1024   876 / 1024   877 / 1024   878 / 1024   879 / 1024   880 / 1024   881 / 1024   882 / 1024   883 / 1024   884 / 1024   885 / 1024   886 / 1024   887 / 1024   888 / 1024   889 / 1024   890 / 1024   891 / 1024   892 / 1024   893 / 1024   894 / 1024   895 / 1024   896 / 1024   897 / 1024   898 / 1024   899 / 1024   900 / 1024   901 / 1024   902 / 1024   903 / 1024   904 / 1024   905 / 1024   906 / 1024  Cannot open img/female/917.jpeg\n",
      " 907 / 1024   908 / 1024   909 / 1024   910 / 1024   911 / 1024   912 / 1024   913 / 1024   914 / 1024   915 / 1024   916 / 1024   917 / 1024   918 / 1024   919 / 1024   920 / 1024   921 / 1024   922 / 1024   923 / 1024   924 / 1024   925 / 1024   926 / 1024   927 / 1024   928 / 1024   929 / 1024   930 / 1024   931 / 1024   932 / 1024   933 / 1024   934 / 1024   935 / 1024   936 / 1024   937 / 1024   938 / 1024   939 / 1024   940 / 1024   941 / 1024   942 / 1024   943 / 1024   944 / 1024   945 / 1024   946 / 1024   947 / 1024   948 / 1024   949 / 1024   950 / 1024   951 / 1024   952 / 1024   953 / 1024   954 / 1024   955 / 1024   956 / 1024   957 / 1024   958 / 1024   959 / 1024   960 / 1024   961 / 1024   962 / 1024   963 / 1024   964 / 1024   965 / 1024   966 / 1024   967 / 1024   968 / 1024   969 / 1024   970 / 1024   971 / 1024   972 / 1024   973 / 1024   974 / 1024   975 / 1024   976 / 1024   977 / 1024   978 / 1024   979 / 1024   980 / 1024   981 / 1024   982 / 1024   983 / 1024   984 / 1024   985 / 1024   986 / 1024   987 / 1024   988 / 1024   989 / 1024   990 / 1024   991 / 1024   992 / 1024   993 / 1024   994 / 1024   995 / 1024   996 / 1024   997 / 1024   998 / 1024   999 / 1024   1000 / 1024   1001 / 1024   1002 / 1024   1003 / 1024   1004 / 1024   1005 / 1024   1006 / 1024   1007 / 1024   1008 / 1024   1009 / 1024   1010 / 1024   1011 / 1024   1012 / 1024   1013 / 1024   1014 / 1024   1015 / 1024   1016 / 1024   1017 / 1024   1018 / 1024   1019 / 1024   1020 / 1024   1021 / 1024   1022 / 1024   1023 / 1024   1024 / 1024   1 / 1024   2 / 1024   3 / 1024   4 / 1024   5 / 1024   6 / 1024   7 / 1024   8 / 1024   9 / 1024   10 / 1024   11 / 1024   12 / 1024   13 / 1024   14 / 1024   15 / 1024   16 / 1024   17 / 1024   18 / 1024   19 / 1024   20 / 1024   21 / 1024   22 / 1024   23 / 1024   24 / 1024   25 / 1024   26 / 1024   27 / 1024   28 / 1024   29 / 1024   30 / 1024   31 / 1024   32 / 1024   33 / 1024   34 / 1024   35 / 1024   36 / 1024   37 / 1024   38 / 1024  HTTP Error 403: Forbidden\n",
      "Image 1073 could not be download or open, trying the next one.\n"
     ]
    },
    {
     "name": "stdout",
     "output_type": "stream",
     "text": [
      " 39 / 1024   40 / 1024   41 / 1024   42 / 1024   43 / 1024   44 / 1024   45 / 1024   46 / 1024   47 / 1024   48 / 1024   49 / 1024   50 / 1024   51 / 1024   52 / 1024   53 / 1024   54 / 1024   55 / 1024   56 / 1024   57 / 1024   58 / 1024   59 / 1024   60 / 1024   61 / 1024   62 / 1024   63 / 1024   64 / 1024   65 / 1024   66 / 1024   67 / 1024   68 / 1024   69 / 1024   70 / 1024   71 / 1024   72 / 1024   73 / 1024   74 / 1024   75 / 1024   76 / 1024   77 / 1024   78 / 1024   79 / 1024   80 / 1024   81 / 1024   82 / 1024   83 / 1024   84 / 1024   85 / 1024   86 / 1024   87 / 1024   88 / 1024   89 / 1024   90 / 1024   91 / 1024   92 / 1024   93 / 1024   94 / 1024   95 / 1024   96 / 1024   97 / 1024   98 / 1024   99 / 1024   100 / 1024   101 / 1024   102 / 1024   103 / 1024   104 / 1024   105 / 1024   106 / 1024   107 / 1024   108 / 1024   109 / 1024   110 / 1024   111 / 1024   112 / 1024   113 / 1024   114 / 1024   115 / 1024   116 / 1024   117 / 1024   118 / 1024   119 / 1024   120 / 1024   121 / 1024   122 / 1024   123 / 1024   124 / 1024   125 / 1024   126 / 1024   127 / 1024   128 / 1024   129 / 1024   130 / 1024   131 / 1024   132 / 1024   133 / 1024   134 / 1024   135 / 1024   136 / 1024   137 / 1024   138 / 1024   139 / 1024   140 / 1024   141 / 1024   142 / 1024   143 / 1024   144 / 1024   145 / 1024   146 / 1024   147 / 1024   148 / 1024   149 / 1024   150 / 1024   151 / 1024   152 / 1024   153 / 1024   154 / 1024   155 / 1024   156 / 1024   157 / 1024   158 / 1024   159 / 1024   160 / 1024   161 / 1024   162 / 1024   163 / 1024   164 / 1024   165 / 1024   166 / 1024   167 / 1024   168 / 1024   169 / 1024   170 / 1024   171 / 1024   172 / 1024   173 / 1024   174 / 1024   175 / 1024   176 / 1024   177 / 1024   178 / 1024   179 / 1024   180 / 1024   181 / 1024   182 / 1024   183 / 1024   184 / 1024  HTTP Error 403: Forbidden\n",
      "Image 1220 could not be download or open, trying the next one.\n",
      " 185 / 1024   186 / 1024   187 / 1024   188 / 1024   189 / 1024   190 / 1024   191 / 1024   192 / 1024   193 / 1024   194 / 1024   195 / 1024   196 / 1024   197 / 1024   198 / 1024   199 / 1024   200 / 1024   201 / 1024   202 / 1024   203 / 1024   204 / 1024   205 / 1024   206 / 1024   207 / 1024   208 / 1024   209 / 1024   210 / 1024   211 / 1024   212 / 1024   213 / 1024   214 / 1024   215 / 1024   216 / 1024   217 / 1024   218 / 1024   219 / 1024   220 / 1024   221 / 1024   222 / 1024   223 / 1024   224 / 1024   225 / 1024   226 / 1024   227 / 1024   228 / 1024   229 / 1024   230 / 1024   231 / 1024   232 / 1024   233 / 1024   234 / 1024   235 / 1024   236 / 1024   237 / 1024   238 / 1024   239 / 1024   240 / 1024   241 / 1024   242 / 1024   243 / 1024   244 / 1024  Cannot open img/male/1281.jpeg\n",
      " 245 / 1024   246 / 1024   247 / 1024   248 / 1024   249 / 1024   250 / 1024   251 / 1024   252 / 1024   253 / 1024   254 / 1024   255 / 1024   256 / 1024   257 / 1024   258 / 1024  HTTP Error 403: Forbidden\n",
      "Image 1295 could not be download or open, trying the next one.\n",
      " 259 / 1024   260 / 1024   261 / 1024   262 / 1024   263 / 1024   264 / 1024   265 / 1024   266 / 1024   267 / 1024   268 / 1024   269 / 1024   270 / 1024   271 / 1024   272 / 1024   273 / 1024   274 / 1024   275 / 1024   276 / 1024   277 / 1024   278 / 1024   279 / 1024   280 / 1024   281 / 1024   282 / 1024   283 / 1024  Cannot open img/male/1321.jpeg\n",
      " 284 / 1024   285 / 1024   286 / 1024   287 / 1024   288 / 1024   289 / 1024   290 / 1024   291 / 1024   292 / 1024   293 / 1024   294 / 1024   295 / 1024   296 / 1024   297 / 1024   298 / 1024   299 / 1024   300 / 1024   301 / 1024   302 / 1024   303 / 1024   304 / 1024   305 / 1024   306 / 1024   307 / 1024   308 / 1024   309 / 1024   310 / 1024   311 / 1024   312 / 1024   313 / 1024   314 / 1024   315 / 1024   316 / 1024   317 / 1024   318 / 1024   319 / 1024   320 / 1024   321 / 1024   322 / 1024   323 / 1024  HTTP Error 403: Forbidden\n",
      "Image 1361 could not be download or open, trying the next one.\n",
      " 324 / 1024   325 / 1024   326 / 1024   327 / 1024   328 / 1024   329 / 1024   330 / 1024   331 / 1024   332 / 1024   333 / 1024   334 / 1024   335 / 1024   336 / 1024   337 / 1024   338 / 1024   339 / 1024   340 / 1024   341 / 1024   342 / 1024   343 / 1024   344 / 1024   345 / 1024   346 / 1024   347 / 1024   348 / 1024   349 / 1024   350 / 1024   351 / 1024   352 / 1024   353 / 1024   354 / 1024   355 / 1024   356 / 1024   357 / 1024   358 / 1024   359 / 1024   360 / 1024   361 / 1024   362 / 1024   363 / 1024   364 / 1024   365 / 1024   366 / 1024   367 / 1024   368 / 1024   369 / 1024   370 / 1024   371 / 1024  Cannot open img/male/1410.jpeg\n",
      " 372 / 1024   373 / 1024   374 / 1024   375 / 1024   376 / 1024   377 / 1024   378 / 1024   379 / 1024   380 / 1024   381 / 1024   382 / 1024   383 / 1024   384 / 1024   385 / 1024   386 / 1024   387 / 1024   388 / 1024   389 / 1024   390 / 1024   391 / 1024   392 / 1024   393 / 1024   394 / 1024   395 / 1024   396 / 1024   397 / 1024   398 / 1024   399 / 1024   400 / 1024   401 / 1024   402 / 1024   403 / 1024   404 / 1024   405 / 1024  Cannot open img/male/1444.jpeg\n",
      " 406 / 1024   407 / 1024   408 / 1024   409 / 1024   410 / 1024   411 / 1024   412 / 1024   413 / 1024   414 / 1024   415 / 1024   416 / 1024   417 / 1024   418 / 1024   419 / 1024   420 / 1024   421 / 1024   422 / 1024   423 / 1024   424 / 1024   425 / 1024   426 / 1024   427 / 1024   428 / 1024   429 / 1024   430 / 1024   431 / 1024   432 / 1024   433 / 1024   434 / 1024   435 / 1024   436 / 1024   437 / 1024   438 / 1024   439 / 1024   440 / 1024   441 / 1024   442 / 1024   443 / 1024   444 / 1024   445 / 1024   446 / 1024   447 / 1024   448 / 1024   449 / 1024   450 / 1024   451 / 1024   452 / 1024   453 / 1024   454 / 1024   455 / 1024   456 / 1024   457 / 1024   458 / 1024   459 / 1024   460 / 1024   461 / 1024   462 / 1024  HTTP Error 403: Forbidden\n",
      "Image 1501 could not be download or open, trying the next one.\n",
      " 463 / 1024   464 / 1024   465 / 1024   466 / 1024   467 / 1024   468 / 1024   469 / 1024   470 / 1024   471 / 1024   472 / 1024   473 / 1024   474 / 1024   475 / 1024   476 / 1024   477 / 1024   478 / 1024   479 / 1024  HTTP Error 403: Forbidden\n",
      "Image 1519 could not be download or open, trying the next one.\n",
      " 480 / 1024   481 / 1024   482 / 1024   483 / 1024   484 / 1024   485 / 1024   486 / 1024   487 / 1024   488 / 1024   489 / 1024   490 / 1024   491 / 1024   492 / 1024   493 / 1024   494 / 1024   495 / 1024   496 / 1024   497 / 1024   498 / 1024   499 / 1024   500 / 1024   501 / 1024   502 / 1024   503 / 1024   504 / 1024   505 / 1024   506 / 1024   507 / 1024   508 / 1024   509 / 1024   510 / 1024   511 / 1024   512 / 1024   513 / 1024   514 / 1024   515 / 1024   516 / 1024   517 / 1024   518 / 1024   519 / 1024   520 / 1024   521 / 1024   522 / 1024   523 / 1024   524 / 1024   525 / 1024   526 / 1024   527 / 1024   528 / 1024   529 / 1024   530 / 1024   531 / 1024   532 / 1024   533 / 1024   534 / 1024   535 / 1024   536 / 1024   537 / 1024   538 / 1024   539 / 1024   540 / 1024   541 / 1024   542 / 1024   543 / 1024   544 / 1024   545 / 1024   546 / 1024   547 / 1024   548 / 1024   549 / 1024   550 / 1024   551 / 1024   552 / 1024   553 / 1024   554 / 1024   555 / 1024   556 / 1024   557 / 1024   558 / 1024   559 / 1024   560 / 1024   561 / 1024   562 / 1024   563 / 1024   564 / 1024   565 / 1024   566 / 1024   567 / 1024   568 / 1024   569 / 1024   570 / 1024   571 / 1024   572 / 1024   573 / 1024   574 / 1024   575 / 1024   576 / 1024   577 / 1024   578 / 1024   579 / 1024   580 / 1024   581 / 1024   582 / 1024   583 / 1024   584 / 1024   585 / 1024   586 / 1024   587 / 1024   588 / 1024   589 / 1024   590 / 1024   591 / 1024   592 / 1024   593 / 1024   594 / 1024   595 / 1024   596 / 1024   597 / 1024   598 / 1024  Cannot open img/male/1639.jpeg\n",
      " 599 / 1024   600 / 1024   601 / 1024   602 / 1024   603 / 1024   604 / 1024  HTTP Error 403: Forbidden\n",
      "Image 1645 could not be download or open, trying the next one.\n"
     ]
    },
    {
     "name": "stdout",
     "output_type": "stream",
     "text": [
      " 605 / 1024   606 / 1024   607 / 1024   608 / 1024   609 / 1024   610 / 1024   611 / 1024   612 / 1024   613 / 1024   614 / 1024   615 / 1024   616 / 1024   617 / 1024   618 / 1024   619 / 1024   620 / 1024   621 / 1024   622 / 1024   623 / 1024   624 / 1024   625 / 1024   626 / 1024   627 / 1024   628 / 1024   629 / 1024   630 / 1024   631 / 1024   632 / 1024   633 / 1024   634 / 1024   635 / 1024   636 / 1024   637 / 1024   638 / 1024   639 / 1024   640 / 1024   641 / 1024   642 / 1024   643 / 1024   644 / 1024   645 / 1024   646 / 1024   647 / 1024   648 / 1024   649 / 1024   650 / 1024   651 / 1024   652 / 1024   653 / 1024   654 / 1024   655 / 1024   656 / 1024   657 / 1024   658 / 1024   659 / 1024   660 / 1024   661 / 1024   662 / 1024   663 / 1024   664 / 1024   665 / 1024   666 / 1024   667 / 1024   668 / 1024  HTTP Error 403: Forbidden\n",
      "Image 1710 could not be download or open, trying the next one.\n",
      " 669 / 1024   670 / 1024   671 / 1024   672 / 1024   673 / 1024   674 / 1024   675 / 1024   676 / 1024   677 / 1024   678 / 1024   679 / 1024   680 / 1024   681 / 1024   682 / 1024   683 / 1024   684 / 1024   685 / 1024   686 / 1024   687 / 1024   688 / 1024   689 / 1024   690 / 1024   691 / 1024   692 / 1024   693 / 1024   694 / 1024   695 / 1024   696 / 1024   697 / 1024   698 / 1024   699 / 1024   700 / 1024   701 / 1024   702 / 1024   703 / 1024   704 / 1024   705 / 1024   706 / 1024   707 / 1024   708 / 1024   709 / 1024   710 / 1024   711 / 1024   712 / 1024   713 / 1024   714 / 1024   715 / 1024   716 / 1024   717 / 1024   718 / 1024   719 / 1024   720 / 1024   721 / 1024   722 / 1024   723 / 1024   724 / 1024   725 / 1024   726 / 1024   727 / 1024   728 / 1024   729 / 1024   730 / 1024   731 / 1024   732 / 1024   733 / 1024   734 / 1024   735 / 1024   736 / 1024   737 / 1024   738 / 1024   739 / 1024   740 / 1024   741 / 1024   742 / 1024   743 / 1024   744 / 1024   745 / 1024   746 / 1024   747 / 1024   748 / 1024   749 / 1024   750 / 1024   751 / 1024   752 / 1024   753 / 1024   754 / 1024   755 / 1024   756 / 1024   757 / 1024   758 / 1024   759 / 1024   760 / 1024   761 / 1024   762 / 1024   763 / 1024   764 / 1024   765 / 1024   766 / 1024   767 / 1024   768 / 1024   769 / 1024   770 / 1024   771 / 1024   772 / 1024   773 / 1024   774 / 1024   775 / 1024   776 / 1024   777 / 1024   778 / 1024   779 / 1024   780 / 1024   781 / 1024   782 / 1024   783 / 1024   784 / 1024   785 / 1024   786 / 1024   787 / 1024   788 / 1024   789 / 1024   790 / 1024   791 / 1024   792 / 1024   793 / 1024   794 / 1024   795 / 1024   796 / 1024   797 / 1024   798 / 1024   799 / 1024   800 / 1024   801 / 1024   802 / 1024   803 / 1024  HTTP Error 403: Forbidden\n",
      "Image 1846 could not be download or open, trying the next one.\n",
      " 804 / 1024   805 / 1024   806 / 1024   807 / 1024   808 / 1024   809 / 1024   810 / 1024   811 / 1024   812 / 1024   813 / 1024   814 / 1024   815 / 1024   816 / 1024   817 / 1024   818 / 1024   819 / 1024   820 / 1024   821 / 1024   822 / 1024   823 / 1024   824 / 1024   825 / 1024   826 / 1024   827 / 1024   828 / 1024   829 / 1024   830 / 1024  Cannot open img/male/1874.jpeg\n",
      " 831 / 1024   832 / 1024   833 / 1024   834 / 1024   835 / 1024   836 / 1024   837 / 1024   838 / 1024   839 / 1024   840 / 1024   841 / 1024   842 / 1024   843 / 1024   844 / 1024  HTTP Error 403: Forbidden\n",
      "Image 1888 could not be download or open, trying the next one.\n",
      " 845 / 1024   846 / 1024   847 / 1024   848 / 1024   849 / 1024   850 / 1024   851 / 1024   852 / 1024   853 / 1024   854 / 1024   855 / 1024   856 / 1024   857 / 1024   858 / 1024   859 / 1024   860 / 1024   861 / 1024   862 / 1024   863 / 1024   864 / 1024   865 / 1024   866 / 1024   867 / 1024   868 / 1024   869 / 1024   870 / 1024   871 / 1024   872 / 1024   873 / 1024   874 / 1024   875 / 1024   876 / 1024   877 / 1024   878 / 1024   879 / 1024   880 / 1024   881 / 1024   882 / 1024   883 / 1024   884 / 1024   885 / 1024   886 / 1024   887 / 1024   888 / 1024   889 / 1024   890 / 1024   891 / 1024   892 / 1024   893 / 1024   894 / 1024   895 / 1024   896 / 1024   897 / 1024   898 / 1024   899 / 1024   900 / 1024   901 / 1024   902 / 1024   903 / 1024   904 / 1024   905 / 1024   906 / 1024   907 / 1024   908 / 1024   909 / 1024   910 / 1024   911 / 1024   912 / 1024   913 / 1024  Cannot open img/male/1958.jpeg\n",
      " 914 / 1024   915 / 1024   916 / 1024   917 / 1024   918 / 1024   919 / 1024   920 / 1024   921 / 1024   922 / 1024   923 / 1024   924 / 1024   925 / 1024   926 / 1024   927 / 1024   928 / 1024   929 / 1024   930 / 1024   931 / 1024   932 / 1024   933 / 1024   934 / 1024   935 / 1024   936 / 1024   937 / 1024   938 / 1024   939 / 1024   940 / 1024   941 / 1024   942 / 1024   943 / 1024   944 / 1024   945 / 1024   946 / 1024   947 / 1024   948 / 1024   949 / 1024   950 / 1024   951 / 1024   952 / 1024   953 / 1024   954 / 1024   955 / 1024   956 / 1024   957 / 1024   958 / 1024   959 / 1024   960 / 1024   961 / 1024   962 / 1024   963 / 1024   964 / 1024   965 / 1024   966 / 1024   967 / 1024   968 / 1024   969 / 1024   970 / 1024   971 / 1024   972 / 1024   973 / 1024   974 / 1024   975 / 1024   976 / 1024   977 / 1024   978 / 1024   979 / 1024   980 / 1024   981 / 1024   982 / 1024   983 / 1024   984 / 1024   985 / 1024   986 / 1024   987 / 1024   988 / 1024   989 / 1024   990 / 1024   991 / 1024   992 / 1024   993 / 1024   994 / 1024   995 / 1024   996 / 1024   997 / 1024   998 / 1024   999 / 1024   1000 / 1024   1001 / 1024   1002 / 1024   1003 / 1024   1004 / 1024   1005 / 1024   1006 / 1024   1007 / 1024   1008 / 1024   1009 / 1024   1010 / 1024   1011 / 1024   1012 / 1024   1013 / 1024   1014 / 1024   1015 / 1024   1016 / 1024   1017 / 1024   1018 / 1024   1019 / 1024   1020 / 1024   1021 / 1024   1022 / 1024   1023 / 1024   1024 / 1024  "
     ]
    }
   ],
   "source": [
    "X, y = set_local_dataset(df, 1024)  # set a list of images as np.array"
   ]
  },
  {
   "cell_type": "markdown",
   "metadata": {},
   "source": [
    "### Preprocess the image\n",
    "Now, we need to apply feature extraction, we only care for faces rather than all the scenario. We obtain the faces from the image and train the model with them. The process is very straightforward with the cvlib library.\n",
    "\n"
   ]
  },
  {
   "cell_type": "code",
   "execution_count": 56,
   "metadata": {},
   "outputs": [],
   "source": [
    "def faces_from_image(image: np.array) -> np.array:\n",
    "    '''Given an image as np.array, we return a list of faces with a size of (96, 96). \n",
    "    If there're no faces, we return an empty list, if we cannot resize the image we return a None object. '''\n",
    "    faces = []\n",
    "    face, confidence = cv.detect_face(image)  \n",
    "    for f in face:  # loop through each face\n",
    "        (startX, startY) = f[0], f[1]  # get the corners for each image\n",
    "        (endX, endY) = f[2], f[3]\n",
    "        # cv2.rectangle(image, (startX,startY), (endX,endY), (0,255,0), 2)  # draw rectangle over face\n",
    "        face_crop = np.copy(image[startY:endY, startX:endX])  # crop the detected face region\n",
    "        try:\n",
    "            face_crop = cv2.resize(face_crop, (96,96))   # Resize every single image for the neural network\n",
    "        except Exception as e: \n",
    "            return None  # We cannot resize the desire image\n",
    "        face_crop = face_crop.astype(\"float\") / 255.0  # normalize the image, as type float\n",
    "        face_crop = img_to_array(face_crop)  # pass image to array\n",
    "        # face_crop = np.expand_dims(face_crop, axis=0)\n",
    "        faces.append(face_crop)\n",
    "    return np.array(faces)"
   ]
  },
  {
   "cell_type": "code",
   "execution_count": 57,
   "metadata": {},
   "outputs": [],
   "source": [
    "# December 9, exam\n",
    "# last two weeks, oral presentation\n",
    "\n",
    "def plot_img(img):\n",
    "    plt.imshow(img)\n",
    "    plt.show()"
   ]
  },
  {
   "cell_type": "code",
   "execution_count": 58,
   "metadata": {},
   "outputs": [],
   "source": [
    "\n",
    "def get_faces(X: list, y: list):\n",
    "    '''Extract the images X, y such that we could actually extract a face and could resize it.'''\n",
    "    x_faces, y_faces = [], []  # to return\n",
    "    unvalid_indexes = list()\n",
    "    for i, image in tqdm(enumerate(X)):\n",
    "        faces = faces_from_image(image)  # get the faces list\n",
    "        if faces is None or faces.shape[0] == 0:  \n",
    "            unvalid_indexes.append(i)\n",
    "            continue\n",
    "        # if we could resize face of the image and there are people in the image\n",
    "        x_faces.append(faces[0])  # append the first face \n",
    "        y_faces.append(y[i])  # append the label\n",
    "    return np.array(x_faces), np.array(y_faces), unvalid_indexes  # return filtered X, y"
   ]
  },
  {
   "cell_type": "code",
   "execution_count": 59,
   "metadata": {},
   "outputs": [
    {
     "name": "stderr",
     "output_type": "stream",
     "text": [
      "1638it [00:48, 33.78it/s]\n",
      "410it [00:12, 31.98it/s]\n"
     ]
    }
   ],
   "source": [
    "\n",
    "# set a label \n",
    "le = preprocessing.LabelEncoder()\n",
    "y = le.fit_transform(y)  \n",
    "\n",
    "# prepare variables to fit the model\n",
    "X_train, X_test, y_train, y_test = train_test_split(X, y, test_size=0.2, random_state=0)  # split\n",
    "\n",
    "# obtain only the faces resized\n",
    "X_train_faces, y_train_faces, _ = get_faces(X_train, y_train)\n",
    "X_test_faces, y_test_faces, indexes = get_faces(X_test, y_test)\n",
    "\n",
    "# We couldn't extract the faces from the given indexes, drop all images like so\n",
    "np.delete(X_test, indexes)\n",
    "np.delete(y_test, indexes)\n",
    "\n",
    "# encode to one hot\n",
    "y_train_one_hot = to_categorical(y_train_faces)\n",
    "y_test_one_hot = to_categorical(y_test_faces)\n"
   ]
  },
  {
   "cell_type": "markdown",
   "metadata": {},
   "source": [
    "## Training the model\n",
    "After preprocessing all the images, droping those labeled as unknown, droping no clear images we finally build the model. We design a simple architecture for the neural network, without using deep neural networks we actually took good results."
   ]
  },
  {
   "cell_type": "code",
   "execution_count": 76,
   "metadata": {},
   "outputs": [],
   "source": [
    "\n",
    "def Model(shape, n_outputs):\n",
    "    '''Build the architecture fo the model.'''\n",
    "    model = Sequential()\n",
    "    \n",
    "    model.add(Flatten(input_shape=shape))  # Flat the image given\n",
    "    model.add(Dense(512, activation='relu'))  # connect every neuron to each other, obtain relevan features with Relu activation function\n",
    "    model.add(Dense(n_outputs, activation='softmax'))  # final layer, since we have two classes we need two neurons in the final layer\n",
    "    \n",
    "    # compile the model, define loss function, optimizer and the metrics (at least one)\n",
    "    model.compile(loss='categorical_crossentropy', \n",
    "                  optimizer='adam',\n",
    "                  metrics=['accuracy'])\n",
    "    return model\n"
   ]
  },
  {
   "cell_type": "code",
   "execution_count": null,
   "metadata": {},
   "outputs": [
    {
     "name": "stdout",
     "output_type": "stream",
     "text": [
      "Epoch 1/15\n",
      "1364/1364 [==============================] - 9s 7ms/step - loss: 6.6898 - accuracy: 0.6459\n",
      "Epoch 2/15\n",
      "1364/1364 [==============================] - 8s 6ms/step - loss: 1.6269 - accuracy: 0.7412\n",
      "Epoch 3/15\n",
      "1364/1364 [==============================] - 8s 6ms/step - loss: 1.4519 - accuracy: 0.7353\n",
      "Epoch 4/15\n",
      "1364/1364 [==============================] - 8s 6ms/step - loss: 1.4837 - accuracy: 0.7405\n",
      "Epoch 5/15\n",
      "1364/1364 [==============================] - 8s 6ms/step - loss: 1.1133 - accuracy: 0.7639\n",
      "Epoch 6/15\n",
      "1364/1364 [==============================] - 8s 6ms/step - loss: 1.8074 - accuracy: 0.7353\n",
      "Epoch 7/15\n",
      "1364/1364 [==============================] - 8s 6ms/step - loss: 1.1145 - accuracy: 0.7676\n",
      "Epoch 8/15\n",
      "1364/1364 [==============================] - 8s 6ms/step - loss: 0.9218 - accuracy: 0.8013\n",
      "Epoch 9/15\n",
      "1364/1364 [==============================] - 8s 6ms/step - loss: 0.8022 - accuracy: 0.7962\n",
      "Epoch 10/15\n",
      "1364/1364 [==============================] - 8s 6ms/step - loss: 0.6450 - accuracy: 0.8087\n",
      "Epoch 11/15\n",
      "1364/1364 [==============================] - 8s 6ms/step - loss: 0.4501 - accuracy: 0.8409\n",
      "Epoch 12/15\n",
      "1344/1364 [============================>.] - ETA: 0s - loss: 0.4187 - accuracy: 0.8460"
     ]
    }
   ],
   "source": [
    "\n",
    "model = Model(X_train_faces[0].shape, 2)  # pass the shape of the first instance, of course ALL instances must share the same shape\n",
    "model.fit(X_train_faces, y_train_one_hot, epochs=15)  # fit the model, the dependent variable must be one hot, of course\n",
    "test_loss, test_acc = model.evaluate(X_test_faces,  y_test_one_hot, verbose=2)  # evaluate the model, display how accurately it is\n",
    "print('\\nTest accuracy:', test_acc)"
   ]
  },
  {
   "cell_type": "markdown",
   "metadata": {},
   "source": [
    "### Conclusion\n",
    "After training the model, we appreciate the results, which are quite powerful, giving us a result about 70 percent. Samples of the image and number of epoch are key to success and improve the model. \n",
    "\n",
    "We could improve significantly the accurracy of the model by using deep learning, but the project was focused only to Neural networks without using deep learning."
   ]
  },
  {
   "cell_type": "code",
   "execution_count": null,
   "metadata": {},
   "outputs": [],
   "source": []
  },
  {
   "cell_type": "code",
   "execution_count": null,
   "metadata": {},
   "outputs": [],
   "source": [
    "\n",
    "def conclusion(image: np.array, model: keras.engine.sequential.Sequential, classes: list) -> None:\n",
    "    face, confidence = cv.detect_face(image)  \n",
    "    for f in face:  # loop through each face\n",
    "        (startX, startY) = f[0], f[1]  # get the corners for each image\n",
    "        (endX, endY) = f[2], f[3]\n",
    "        cv2.rectangle(image, (startX,startY), (endX,endY), (0,255,0), 2)  # draw rectangle over face\n",
    "        face_crop = np.copy(image[startY:endY, startX:endX])  # crop the detected face region\n",
    "        try:\n",
    "            face_crop = cv2.resize(face_crop, (96,96))   # Resize every single image for the neural network\n",
    "        except Exception as e: \n",
    "            continue\n",
    "        face_crop = face_crop.astype(\"float\") / 255.0  # normalize the image, as type float\n",
    "        face_crop = img_to_array(face_crop)  # pass image to array\n",
    "        face_crop = np.expand_dims(face_crop, axis=0)  # required, expand the dimension, the shape of the image\n",
    "\n",
    "        conf = model.predict(face_crop)[0]  # apply gender detection on face\n",
    "        idx = np.argmax(conf)\n",
    "\n",
    "        label = classes[idx]  # get the most likely label for the image\n",
    "        label = \"{}: {:.2f}%\".format(label, conf[idx] * 100)\n",
    "        Y = startY - 10 if startY - 10 > 10 else startY + 10  # compute the y \n",
    "        # write label and confidence above face rectangle\n",
    "        cv2.putText(image, label, (startX, Y),  cv2.FONT_HERSHEY_SIMPLEX, 0.7, (0, 255, 0), 2)\n",
    "    plot_img(image)"
   ]
  },
  {
   "cell_type": "code",
   "execution_count": null,
   "metadata": {},
   "outputs": [],
   "source": [
    "import random\n",
    "\n",
    "for img in random.sample(list(X_test), k=5):\n",
    "    conclusion(img, model, ['female', 'male'])"
   ]
  },
  {
   "cell_type": "code",
   "execution_count": null,
   "metadata": {},
   "outputs": [],
   "source": []
  },
  {
   "cell_type": "code",
   "execution_count": null,
   "metadata": {},
   "outputs": [],
   "source": []
  }
 ],
 "metadata": {
  "kernelspec": {
   "display_name": "Python 3",
   "language": "python",
   "name": "python3"
  },
  "language_info": {
   "codemirror_mode": {
    "name": "ipython",
    "version": 3
   },
   "file_extension": ".py",
   "mimetype": "text/x-python",
   "name": "python",
   "nbconvert_exporter": "python",
   "pygments_lexer": "ipython3",
   "version": "3.7.3"
  }
 },
 "nbformat": 4,
 "nbformat_minor": 2
}
