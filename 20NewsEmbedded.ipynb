{
  "nbformat": 4,
  "nbformat_minor": 0,
  "metadata": {
    "colab": {
      "name": "20NewsEmbedded.ipynb",
      "provenance": [],
      "collapsed_sections": [],
      "machine_shape": "hm",
      "include_colab_link": true
    },
    "kernelspec": {
      "name": "python3",
      "display_name": "Python 3"
    }
  },
  "cells": [
    {
      "cell_type": "markdown",
      "metadata": {
        "id": "view-in-github",
        "colab_type": "text"
      },
      "source": [
        "<a href=\"https://colab.research.google.com/github/Ang3lino/mlnn/blob/master/20NewsEmbedded.ipynb\" target=\"_parent\"><img src=\"https://colab.research.google.com/assets/colab-badge.svg\" alt=\"Open In Colab\"/></a>"
      ]
    },
    {
      "cell_type": "code",
      "metadata": {
        "id": "5apgf1CwMSz3",
        "colab_type": "code",
        "colab": {
          "base_uri": "https://localhost:8080/",
          "height": 35
        },
        "outputId": "f60297ce-e0c7-4e48-c4db-743fbb102d57"
      },
      "source": [
        "from keras.layers import Dropout, Dense, GRU, Embedding\n",
        "from keras.models import Sequential\n",
        "from sklearn.feature_extraction.text import TfidfVectorizer\n",
        "import numpy as np\n",
        "from sklearn import metrics\n",
        "from keras.preprocessing.text import Tokenizer\n",
        "from keras.preprocessing.sequence import pad_sequences\n",
        "from sklearn.datasets import fetch_20newsgroups\n",
        "from sklearn.model_selection import train_test_split\n",
        "\n",
        "\n",
        "from pprint import pprint\n",
        "\n",
        "from google.colab import drive\n",
        "drive.mount('/content/gdrive')\n",
        "\n",
        "#download file here:\n",
        "#https://drive.google.com/file/d/1rPG-OC2BHa-TqiFongB4Ts_UuBcDLf6t/view?usp=sharing\n",
        "#Then put it in your own gdrive and maybe change the folder name.\n",
        "#But maybe it works, i think we should copy the drive.mount into a new cell\n"
      ],
      "execution_count": 20,
      "outputs": [
        {
          "output_type": "stream",
          "text": [
            "Drive already mounted at /content/gdrive; to attempt to forcibly remount, call drive.mount(\"/content/gdrive\", force_remount=True).\n"
          ],
          "name": "stdout"
        }
      ]
    },
    {
      "cell_type": "code",
      "metadata": {
        "id": "Kan6SX5tMZPT",
        "colab_type": "code",
        "colab": {}
      },
      "source": [
        "def loadData_Tokenizer(X_train, X_test, MAX_NB_WORDS=75000, MAX_SEQUENCE_LENGTH=500):\n",
        "    np.random.seed(7)\n",
        "    text = np.concatenate((X_train, X_test), axis=0)\n",
        "    text = np.array(text)\n",
        "    tokenizer = Tokenizer(num_words=MAX_NB_WORDS)\n",
        "    tokenizer.fit_on_texts(text)\n",
        "    sequences = tokenizer.texts_to_sequences(text)\n",
        "    word_index = tokenizer.word_index\n",
        "    text = pad_sequences(sequences, maxlen=MAX_SEQUENCE_LENGTH)\n",
        "    print('Found %s unique tokens.' % len(word_index))\n",
        "    indices = np.arange(text.shape[0])\n",
        "    # np.random.shuffle(indices)\n",
        "    text = text[indices]\n",
        "    print(text.shape)\n",
        "    X_train = text[0:len(X_train), ]\n",
        "    X_test = text[len(X_train):, ]\n",
        "    embeddings_index = {}\n",
        "    f = open(\"gdrive/My Drive/glove.6B.50d.txt\", encoding=\"utf8\")\n",
        "    for line in f:\n",
        "        values = line.split()\n",
        "        word = values[0]\n",
        "        try:\n",
        "            coefs = np.asarray(values[1:], dtype='float32')\n",
        "        except:\n",
        "            pass\n",
        "        embeddings_index[word] = coefs\n",
        "    f.close()\n",
        "    print('Total %s word vectors.' % len(embeddings_index))\n",
        "    return (X_train, X_test, word_index,embeddings_index)"
      ],
      "execution_count": 0,
      "outputs": []
    },
    {
      "cell_type": "code",
      "metadata": {
        "id": "GM1wxSi3Nx6l",
        "colab_type": "code",
        "colab": {}
      },
      "source": [
        "def Build_Model_RNN_Text(word_index, embeddings_index, nclasses,  MAX_SEQUENCE_LENGTH=500, EMBEDDING_DIM=50, dropout=0.5):\n",
        "    \"\"\"\n",
        "    def buildModel_RNN(word_index, embeddings_index, nclasses,  MAX_SEQUENCE_LENGTH=500, EMBEDDING_DIM=50, dropout=0.5):\n",
        "    word_index in word index ,\n",
        "    embeddings_index is embeddings index, look at data_helper.py\n",
        "    nClasses is number of classes,\n",
        "    MAX_SEQUENCE_LENGTH is maximum lenght of text sequences\n",
        "    \"\"\"\n",
        "    model = Sequential()\n",
        "    hidden_layer = 3\n",
        "    gru_node = 32\n",
        "    embedding_matrix = np.random.random((len(word_index) + 1, EMBEDDING_DIM))\n",
        "    for word, i in word_index.items():\n",
        "        embedding_vector = embeddings_index.get(word)\n",
        "        if embedding_vector is not None:\n",
        "            # words not found in embedding index will be all-zeros.\n",
        "            if len(embedding_matrix[i]) != len(embedding_vector):\n",
        "                print(\"could not broadcast input array from shape\", str(len(embedding_matrix[i])),\n",
        "                      \"into shape\", str(len(embedding_vector)), \" Please make sure your\"\n",
        "                                                                \" EMBEDDING_DIM is equal to embedding_vector file ,GloVe,\")\n",
        "                exit(1)\n",
        "            embedding_matrix[i] = embedding_vector\n",
        "    model.add(Embedding(len(word_index) + 1,\n",
        "                                EMBEDDING_DIM,\n",
        "                                weights=[embedding_matrix],\n",
        "                                input_length=MAX_SEQUENCE_LENGTH,\n",
        "                                trainable=True))\n",
        "    print(gru_node)\n",
        "    for i in range(0,hidden_layer):\n",
        "        model.add(GRU(gru_node,return_sequences=True, recurrent_dropout=0.2))\n",
        "        model.add(Dropout(dropout))\n",
        "    model.add(GRU(gru_node, recurrent_dropout=0.2))\n",
        "    model.add(Dropout(dropout))\n",
        "    model.add(Dense(256, activation='relu'))\n",
        "    model.add(Dense(nclasses, activation='softmax'))\n",
        "    model.compile(loss='sparse_categorical_crossentropy',\n",
        "                      optimizer='adam',\n",
        "                      metrics=['accuracy'])\n",
        "    return model"
      ],
      "execution_count": 0,
      "outputs": []
    },
    {
      "cell_type": "code",
      "metadata": {
        "id": "qBmkeD6wf1Zm",
        "colab_type": "code",
        "colab": {}
      },
      "source": [
        "import re\n",
        "import string\n",
        "\n",
        "def clean_text(text):\n",
        "  ''' https://www.youtube.com/watch?v=iQ1bfDMCv_c '''\n",
        "  '''Make text lowercase, remove text in square brackets, remove punctuation and remove words containing numbers.'''\n",
        "  text = text.lower()\n",
        "  text = re.sub('\\[.*?\\]', '', text)\n",
        "  text = re.sub('[%s]' % re.escape(string.punctuation), '', text)\n",
        "  text = re.sub('\\w*\\d\\w*', '', text)\n",
        "\n",
        "  '''Get rid of some additional punctuation and non-sensical text that was missed the first time around.'''\n",
        "  text = re.sub('[‘’“”…]', '', text)\n",
        "  text = re.sub('\\n', '', text)\n",
        "  return text"
      ],
      "execution_count": 0,
      "outputs": []
    },
    {
      "cell_type": "code",
      "metadata": {
        "id": "K1fGrQ8ZN3GD",
        "colab_type": "code",
        "colab": {}
      },
      "source": [
        "newsgroups_train = fetch_20newsgroups(subset='train')\n",
        "newsgroups_test = fetch_20newsgroups(subset='test')\n",
        "\n",
        "# newsgroups_train = fetch_20newsgroups(subset='train', remove=('headers', 'footers', 'quotes'))\n",
        "# newsgroups_test = fetch_20newsgroups(subset='test', remove=('headers', 'footers', 'quotes'))\n",
        "\n",
        "X_train = newsgroups_train.data\n",
        "X_test = newsgroups_test.data\n",
        "y_train = newsgroups_train.target\n",
        "y_test = newsgroups_test.target\n",
        "\n",
        "# predicted = Build_Model_RNN_Text.predict_classes(X_test_Glove)\n",
        "# print(metrics.classification_report(y_test, predicted))"
      ],
      "execution_count": 0,
      "outputs": []
    },
    {
      "cell_type": "code",
      "metadata": {
        "id": "aow8ULEv5Ves",
        "colab_type": "code",
        "colab": {
          "base_uri": "https://localhost:8080/",
          "height": 1000
        },
        "outputId": "052de844-8b5d-40b1-d77c-fe92a3697a66"
      },
      "source": [
        "print(len(X_test))\n",
        "for x, y in zip(X_test[:5], y_test[:5]):\n",
        "  x = X_test[0]\n",
        "  print(type(x))\n",
        "  pprint(x)\n",
        "  pprint(y)"
      ],
      "execution_count": 25,
      "outputs": [
        {
          "output_type": "stream",
          "text": [
            "7532\n",
            "<class 'str'>\n",
            "('From: v064mb9k@ubvmsd.cc.buffalo.edu (NEIL B. GANDLER)\\n'\n",
            " 'Subject: Need info on 88-89 Bonneville\\n'\n",
            " 'Organization: University at Buffalo\\n'\n",
            " 'Lines: 10\\n'\n",
            " 'News-Software: VAX/VMS VNEWS 1.41\\n'\n",
            " 'Nntp-Posting-Host: ubvmsd.cc.buffalo.edu\\n'\n",
            " '\\n'\n",
            " '\\n'\n",
            " ' I am a little confused on all of the models of the 88-89 bonnevilles.\\n'\n",
            " 'I have heard of the LE SE LSE SSE SSEI. Could someone tell me the\\n'\n",
            " 'differences are far as features or performance. I am also curious to\\n'\n",
            " 'know what the book value is for prefereably the 89 model. And how much\\n'\n",
            " 'less than book value can you usually get them for. In other words how\\n'\n",
            " 'much are they in demand this time of year. I have heard that the mid-spring\\n'\n",
            " 'early summer is the best time to buy.\\n'\n",
            " '\\n'\n",
            " '\\t\\t\\tNeil Gandler\\n')\n",
            "7\n",
            "<class 'str'>\n",
            "('From: v064mb9k@ubvmsd.cc.buffalo.edu (NEIL B. GANDLER)\\n'\n",
            " 'Subject: Need info on 88-89 Bonneville\\n'\n",
            " 'Organization: University at Buffalo\\n'\n",
            " 'Lines: 10\\n'\n",
            " 'News-Software: VAX/VMS VNEWS 1.41\\n'\n",
            " 'Nntp-Posting-Host: ubvmsd.cc.buffalo.edu\\n'\n",
            " '\\n'\n",
            " '\\n'\n",
            " ' I am a little confused on all of the models of the 88-89 bonnevilles.\\n'\n",
            " 'I have heard of the LE SE LSE SSE SSEI. Could someone tell me the\\n'\n",
            " 'differences are far as features or performance. I am also curious to\\n'\n",
            " 'know what the book value is for prefereably the 89 model. And how much\\n'\n",
            " 'less than book value can you usually get them for. In other words how\\n'\n",
            " 'much are they in demand this time of year. I have heard that the mid-spring\\n'\n",
            " 'early summer is the best time to buy.\\n'\n",
            " '\\n'\n",
            " '\\t\\t\\tNeil Gandler\\n')\n",
            "5\n",
            "<class 'str'>\n",
            "('From: v064mb9k@ubvmsd.cc.buffalo.edu (NEIL B. GANDLER)\\n'\n",
            " 'Subject: Need info on 88-89 Bonneville\\n'\n",
            " 'Organization: University at Buffalo\\n'\n",
            " 'Lines: 10\\n'\n",
            " 'News-Software: VAX/VMS VNEWS 1.41\\n'\n",
            " 'Nntp-Posting-Host: ubvmsd.cc.buffalo.edu\\n'\n",
            " '\\n'\n",
            " '\\n'\n",
            " ' I am a little confused on all of the models of the 88-89 bonnevilles.\\n'\n",
            " 'I have heard of the LE SE LSE SSE SSEI. Could someone tell me the\\n'\n",
            " 'differences are far as features or performance. I am also curious to\\n'\n",
            " 'know what the book value is for prefereably the 89 model. And how much\\n'\n",
            " 'less than book value can you usually get them for. In other words how\\n'\n",
            " 'much are they in demand this time of year. I have heard that the mid-spring\\n'\n",
            " 'early summer is the best time to buy.\\n'\n",
            " '\\n'\n",
            " '\\t\\t\\tNeil Gandler\\n')\n",
            "0\n",
            "<class 'str'>\n",
            "('From: v064mb9k@ubvmsd.cc.buffalo.edu (NEIL B. GANDLER)\\n'\n",
            " 'Subject: Need info on 88-89 Bonneville\\n'\n",
            " 'Organization: University at Buffalo\\n'\n",
            " 'Lines: 10\\n'\n",
            " 'News-Software: VAX/VMS VNEWS 1.41\\n'\n",
            " 'Nntp-Posting-Host: ubvmsd.cc.buffalo.edu\\n'\n",
            " '\\n'\n",
            " '\\n'\n",
            " ' I am a little confused on all of the models of the 88-89 bonnevilles.\\n'\n",
            " 'I have heard of the LE SE LSE SSE SSEI. Could someone tell me the\\n'\n",
            " 'differences are far as features or performance. I am also curious to\\n'\n",
            " 'know what the book value is for prefereably the 89 model. And how much\\n'\n",
            " 'less than book value can you usually get them for. In other words how\\n'\n",
            " 'much are they in demand this time of year. I have heard that the mid-spring\\n'\n",
            " 'early summer is the best time to buy.\\n'\n",
            " '\\n'\n",
            " '\\t\\t\\tNeil Gandler\\n')\n",
            "17\n",
            "<class 'str'>\n",
            "('From: v064mb9k@ubvmsd.cc.buffalo.edu (NEIL B. GANDLER)\\n'\n",
            " 'Subject: Need info on 88-89 Bonneville\\n'\n",
            " 'Organization: University at Buffalo\\n'\n",
            " 'Lines: 10\\n'\n",
            " 'News-Software: VAX/VMS VNEWS 1.41\\n'\n",
            " 'Nntp-Posting-Host: ubvmsd.cc.buffalo.edu\\n'\n",
            " '\\n'\n",
            " '\\n'\n",
            " ' I am a little confused on all of the models of the 88-89 bonnevilles.\\n'\n",
            " 'I have heard of the LE SE LSE SSE SSEI. Could someone tell me the\\n'\n",
            " 'differences are far as features or performance. I am also curious to\\n'\n",
            " 'know what the book value is for prefereably the 89 model. And how much\\n'\n",
            " 'less than book value can you usually get them for. In other words how\\n'\n",
            " 'much are they in demand this time of year. I have heard that the mid-spring\\n'\n",
            " 'early summer is the best time to buy.\\n'\n",
            " '\\n'\n",
            " '\\t\\t\\tNeil Gandler\\n')\n",
            "19\n"
          ],
          "name": "stdout"
        }
      ]
    },
    {
      "cell_type": "code",
      "metadata": {
        "id": "HA09RoRwfd1-",
        "colab_type": "code",
        "colab": {
          "base_uri": "https://localhost:8080/",
          "height": 35
        },
        "outputId": "6c1644c4-1ce5-431c-ec3a-be031a9f338c"
      },
      "source": [
        "# newsgroups_train = fetch_20newsgroups(subset='train', remove=('headers', 'footers', 'quotes'))\n",
        "# newsgroups_test = fetch_20newsgroups(subset='test', remove=('headers', 'footers', 'quotes'))\n",
        "print(type(X_train))\n",
        "\n",
        "X_train = list(map(clean_text, X_train))\n",
        "X_test = list(map(clean_text, X_test))\n",
        "\n",
        "# print(X_train.shape)\n",
        "# print(X_test.shape)\n",
        "\n",
        "# X, y = X_test, y_test\n",
        "# X_train, X_test, y_train, y_test = train_test_split(\n",
        "#     X, y, test_size=0.33, random_state=42)\n"
      ],
      "execution_count": 26,
      "outputs": [
        {
          "output_type": "stream",
          "text": [
            "<class 'list'>\n"
          ],
          "name": "stdout"
        }
      ]
    },
    {
      "cell_type": "code",
      "metadata": {
        "id": "gz4dAWap2PDk",
        "colab_type": "code",
        "colab": {}
      },
      "source": [
        "\n",
        "\n"
      ],
      "execution_count": 0,
      "outputs": []
    },
    {
      "cell_type": "code",
      "metadata": {
        "id": "PXoKtWE8fT1t",
        "colab_type": "code",
        "outputId": "ce101c09-7809-46af-dba4-c07f5654e925",
        "colab": {
          "base_uri": "https://localhost:8080/",
          "height": 854
        }
      },
      "source": [
        "X_train_Glove, X_test_Glove, word_index, embeddings_index = loadData_Tokenizer(X_train,X_test)\n",
        "model_RNN = Build_Model_RNN_Text(word_index,embeddings_index, 20)\n",
        "model_RNN.fit(X_train_Glove, y_train,\n",
        "                              validation_data=(X_test_Glove, y_test),\n",
        "                              epochs=20,\n",
        "                              batch_size=128,\n",
        "                              verbose=1)"
      ],
      "execution_count": 27,
      "outputs": [
        {
          "output_type": "stream",
          "text": [
            "Found 277434 unique tokens.\n",
            "(18846, 500)\n",
            "Total 400000 word vectors.\n",
            "32\n",
            "Train on 11314 samples, validate on 7532 samples\n",
            "Epoch 1/20\n",
            "11314/11314 [==============================] - 164s 15ms/step - loss: 2.9661 - acc: 0.0738 - val_loss: 2.8334 - val_acc: 0.1058\n",
            "Epoch 2/20\n",
            "11314/11314 [==============================] - 168s 15ms/step - loss: 2.6062 - acc: 0.1443 - val_loss: 2.3410 - val_acc: 0.1742\n",
            "Epoch 3/20\n",
            "11314/11314 [==============================] - 178s 16ms/step - loss: 2.2187 - acc: 0.2101 - val_loss: 2.0135 - val_acc: 0.2708\n",
            "Epoch 4/20\n",
            "11314/11314 [==============================] - 185s 16ms/step - loss: 1.9287 - acc: 0.2768 - val_loss: 1.9105 - val_acc: 0.3008\n",
            "Epoch 5/20\n",
            "11314/11314 [==============================] - 186s 16ms/step - loss: 1.6907 - acc: 0.3482 - val_loss: 1.7817 - val_acc: 0.3643\n",
            "Epoch 6/20\n",
            "11314/11314 [==============================] - 187s 17ms/step - loss: 1.4868 - acc: 0.4257 - val_loss: 1.7136 - val_acc: 0.4059\n",
            "Epoch 7/20\n",
            "11314/11314 [==============================] - 176s 16ms/step - loss: 1.2835 - acc: 0.4968 - val_loss: 1.7107 - val_acc: 0.4326\n",
            "Epoch 8/20\n",
            "11314/11314 [==============================] - 181s 16ms/step - loss: 1.1251 - acc: 0.5619 - val_loss: 1.6508 - val_acc: 0.4622\n",
            "Epoch 9/20\n",
            "11314/11314 [==============================] - 181s 16ms/step - loss: 0.9869 - acc: 0.6203 - val_loss: 1.7138 - val_acc: 0.4769\n",
            "Epoch 10/20\n",
            "11314/11314 [==============================] - 174s 15ms/step - loss: 0.8399 - acc: 0.6742 - val_loss: 1.7774 - val_acc: 0.4934\n",
            "Epoch 11/20\n",
            "11314/11314 [==============================] - 181s 16ms/step - loss: 0.7429 - acc: 0.7154 - val_loss: 1.8977 - val_acc: 0.4919\n",
            "Epoch 12/20\n",
            "11314/11314 [==============================] - 175s 15ms/step - loss: 0.6713 - acc: 0.7443 - val_loss: 1.9258 - val_acc: 0.5062\n",
            "Epoch 13/20\n",
            "11314/11314 [==============================] - 188s 17ms/step - loss: 0.6006 - acc: 0.7700 - val_loss: 2.0075 - val_acc: 0.5094\n",
            "Epoch 14/20\n",
            "11314/11314 [==============================] - 188s 17ms/step - loss: 0.5310 - acc: 0.7957 - val_loss: 2.0992 - val_acc: 0.5231\n",
            "Epoch 15/20\n",
            "11314/11314 [==============================] - 191s 17ms/step - loss: 0.4825 - acc: 0.8134 - val_loss: 2.1974 - val_acc: 0.5207\n",
            "Epoch 16/20\n",
            "11314/11314 [==============================] - 185s 16ms/step - loss: 0.4454 - acc: 0.8324 - val_loss: 2.2390 - val_acc: 0.5303\n",
            "Epoch 17/20\n",
            "11314/11314 [==============================] - 184s 16ms/step - loss: 0.4058 - acc: 0.8510 - val_loss: 2.3553 - val_acc: 0.5320\n",
            "Epoch 18/20\n",
            "11314/11314 [==============================] - 176s 16ms/step - loss: 0.3688 - acc: 0.8628 - val_loss: 2.6108 - val_acc: 0.4991\n",
            "Epoch 19/20\n",
            "11314/11314 [==============================] - 175s 15ms/step - loss: 0.3346 - acc: 0.8771 - val_loss: 2.5739 - val_acc: 0.5198\n",
            "Epoch 20/20\n",
            "11314/11314 [==============================] - 175s 15ms/step - loss: 0.3157 - acc: 0.8825 - val_loss: 2.6299 - val_acc: 0.5292\n"
          ],
          "name": "stdout"
        },
        {
          "output_type": "execute_result",
          "data": {
            "text/plain": [
              "<keras.callbacks.History at 0x7ff12b8cc080>"
            ]
          },
          "metadata": {
            "tags": []
          },
          "execution_count": 27
        }
      ]
    },
    {
      "cell_type": "code",
      "metadata": {
        "id": "2b7I-m25ue0v",
        "colab_type": "code",
        "colab": {}
      },
      "source": [
        "predicted = model_RNN.predict_classes(X_test_Glove)\n",
        "print(metrics.classification_report(y_test, predicted))"
      ],
      "execution_count": 0,
      "outputs": []
    },
    {
      "cell_type": "code",
      "metadata": {
        "id": "0UlcSScy52At",
        "colab_type": "code",
        "colab": {}
      },
      "source": [
        ""
      ],
      "execution_count": 0,
      "outputs": []
    }
  ]
}